{
 "cells": [
  {
   "cell_type": "code",
   "id": "initial_id",
   "metadata": {
    "collapsed": true,
    "ExecuteTime": {
     "end_time": "2024-09-17T02:36:12.951599Z",
     "start_time": "2024-09-17T02:36:12.945455Z"
    }
   },
   "source": [
    "import pandas as pd\n",
    "\n",
    "# Example Input DataFrame of strategies\n",
    "df = pd.DataFrame(columns=[\"strategy_a\", \"strategy_b\", \"strategy_c\", \"strategy_d\", \"strategy_e\"])\n",
    "\n",
    "# Example dictionary mapping strategy names to products\n",
    "product_dict = {\n",
    "    \"strategy_a\": \"AAPL\",\n",
    "    \"strategy_b\": \"AAPL\",\n",
    "    \"strategy_c\": \"GOOGL\",\n",
    "    \"strategy_d\": \"GOOGL\",\n",
    "    \"strategy_e\": \"MSFT\",\n",
    "}\n",
    "\n",
    "\n",
    "def generate_group_list(df, product_dict):\n",
    "    groups = []\n",
    "    product_counts = {}\n",
    "\n",
    "    for strategy in df.columns:\n",
    "        product = product_dict[strategy]\n",
    "        if product not in product_counts:\n",
    "            product_counts[product] = 0\n",
    "        \n",
    "        # Increment the count and create incremented names like \"aapl1\"\n",
    "        product_counts[product] += 1\n",
    "        strategy_name = f\"{product.lower()}{product_counts[product]}\"\n",
    "        groups.append(strategy_name)\n",
    "    \n",
    "    return groups\n",
    "\n",
    "\n",
    "groups = generate_group_list(df, product_dict)\n",
    "print(\"Groups:\", groups)\n",
    "\n",
    "\n",
    "def generate_conditional_constraints(groups):\n",
    "    constraints = []\n",
    "    # Track products and their corresponding strategies\n",
    "    product_strategies = {}\n",
    "    \n",
    "    # Build a dictionary of strategies by product using the generated groups\n",
    "    for strategy in groups:\n",
    "        # Extract the base product name (e.g., \"aapl\" from \"aapl1\")\n",
    "        product = strategy.rstrip('0123456789')  # Remove numeric suffix to get product name\n",
    "        if product not in product_strategies:\n",
    "            product_strategies[product] = []\n",
    "        product_strategies[product].append(strategy)\n",
    "\n",
    "    # Generate conditional constraints for each product group\n",
    "    for strategies in product_strategies.values():\n",
    "        if len(strategies) > 1:\n",
    "            # If there are multiple strategies, generate the \"if active\" constraint\n",
    "            constraint_str = f\"{strategies[0]} + {' + '.join(strategies[1:])} > 0 => \"\n",
    "            equal_parts = \" = \".join(strategies)\n",
    "            constraints.append(constraint_str + equal_parts)\n",
    "\n",
    "    return constraints\n",
    "\n",
    "# Generate constraints\n",
    "constraints = generate_conditional_constraints(groups)\n",
    "print(\"Constraints:\", constraints)\n",
    "\n",
    "\n",
    "# NOW -- replace this with HASHES, and then fit!"
   ],
   "outputs": [
    {
     "name": "stdout",
     "output_type": "stream",
     "text": [
      "Groups: ['aapl1', 'aapl2', 'googl1', 'googl2', 'msft1']\n",
      "Constraints: ['aapl1 + aapl2 > 0 => aapl1 = aapl2', 'googl1 + googl2 > 0 => googl1 = googl2']\n"
     ]
    }
   ],
   "execution_count": 205
  },
  {
   "metadata": {
    "ExecuteTime": {
     "end_time": "2024-09-17T02:36:13.407846Z",
     "start_time": "2024-09-17T02:36:13.396956Z"
    }
   },
   "cell_type": "code",
   "source": [
    "prod  = pd.read_csv('prod.csv', parse_dates=True, index_col=0)\n",
    "re = pd.read_csv('incubating_raw.csv', parse_dates=True, index_col=0)\n",
    "rdf = re.dropna(thresh=int(re.shape[1] * .5)).fillna(0.0)\n",
    "rdf.head()"
   ],
   "id": "414d000a86bbb32e",
   "outputs": [
    {
     "data": {
      "text/plain": [
       "            cl_gapcont2020  ec_gcz  ec_ngc  ec_ngf  mbt_ma_dvg_so  \\\n",
       "date                                                                \n",
       "2024-04-01             0.0     0.0     0.0   18.75          127.5   \n",
       "2024-04-02            20.0     0.0     0.0    0.00          -80.0   \n",
       "2024-04-03             0.0     0.0   -12.5    0.00          -29.0   \n",
       "2024-04-04          -800.0     0.0     0.0  400.00           -1.0   \n",
       "2024-04-05             0.0     0.0     0.0  400.00         -139.5   \n",
       "\n",
       "            mbt_mema3_1  mbt_ngc_1  mbt_ngf_1  mbt_ngf_2  ng_gapcont2020  \\\n",
       "date                                                                       \n",
       "2024-04-01          0.0        0.0      -50.0      107.5             0.0   \n",
       "2024-04-02          0.0        0.0        0.0      120.0             0.0   \n",
       "2024-04-03        -39.5       -0.5        3.5        0.0           230.0   \n",
       "2024-04-04         24.5        0.0      -50.0      -49.5           260.0   \n",
       "2024-04-05          2.5        0.0        4.5      116.0          -330.0   \n",
       "\n",
       "            ng_ngf  ng_ngf_2  zs_ngc_1  zs_ngf_1  \n",
       "date                                              \n",
       "2024-04-01     0.0       0.0       0.0       0.0  \n",
       "2024-04-02     0.0       0.0       0.0    -187.5  \n",
       "2024-04-03   340.0       0.0       0.0     287.5  \n",
       "2024-04-04     0.0       0.0    -387.5    -187.5  \n",
       "2024-04-05     0.0       0.0       0.0     287.5  "
      ],
      "text/html": [
       "<div>\n",
       "<style scoped>\n",
       "    .dataframe tbody tr th:only-of-type {\n",
       "        vertical-align: middle;\n",
       "    }\n",
       "\n",
       "    .dataframe tbody tr th {\n",
       "        vertical-align: top;\n",
       "    }\n",
       "\n",
       "    .dataframe thead th {\n",
       "        text-align: right;\n",
       "    }\n",
       "</style>\n",
       "<table border=\"1\" class=\"dataframe\">\n",
       "  <thead>\n",
       "    <tr style=\"text-align: right;\">\n",
       "      <th></th>\n",
       "      <th>cl_gapcont2020</th>\n",
       "      <th>ec_gcz</th>\n",
       "      <th>ec_ngc</th>\n",
       "      <th>ec_ngf</th>\n",
       "      <th>mbt_ma_dvg_so</th>\n",
       "      <th>mbt_mema3_1</th>\n",
       "      <th>mbt_ngc_1</th>\n",
       "      <th>mbt_ngf_1</th>\n",
       "      <th>mbt_ngf_2</th>\n",
       "      <th>ng_gapcont2020</th>\n",
       "      <th>ng_ngf</th>\n",
       "      <th>ng_ngf_2</th>\n",
       "      <th>zs_ngc_1</th>\n",
       "      <th>zs_ngf_1</th>\n",
       "    </tr>\n",
       "    <tr>\n",
       "      <th>date</th>\n",
       "      <th></th>\n",
       "      <th></th>\n",
       "      <th></th>\n",
       "      <th></th>\n",
       "      <th></th>\n",
       "      <th></th>\n",
       "      <th></th>\n",
       "      <th></th>\n",
       "      <th></th>\n",
       "      <th></th>\n",
       "      <th></th>\n",
       "      <th></th>\n",
       "      <th></th>\n",
       "      <th></th>\n",
       "    </tr>\n",
       "  </thead>\n",
       "  <tbody>\n",
       "    <tr>\n",
       "      <th>2024-04-01</th>\n",
       "      <td>0.0</td>\n",
       "      <td>0.0</td>\n",
       "      <td>0.0</td>\n",
       "      <td>18.75</td>\n",
       "      <td>127.5</td>\n",
       "      <td>0.0</td>\n",
       "      <td>0.0</td>\n",
       "      <td>-50.0</td>\n",
       "      <td>107.5</td>\n",
       "      <td>0.0</td>\n",
       "      <td>0.0</td>\n",
       "      <td>0.0</td>\n",
       "      <td>0.0</td>\n",
       "      <td>0.0</td>\n",
       "    </tr>\n",
       "    <tr>\n",
       "      <th>2024-04-02</th>\n",
       "      <td>20.0</td>\n",
       "      <td>0.0</td>\n",
       "      <td>0.0</td>\n",
       "      <td>0.00</td>\n",
       "      <td>-80.0</td>\n",
       "      <td>0.0</td>\n",
       "      <td>0.0</td>\n",
       "      <td>0.0</td>\n",
       "      <td>120.0</td>\n",
       "      <td>0.0</td>\n",
       "      <td>0.0</td>\n",
       "      <td>0.0</td>\n",
       "      <td>0.0</td>\n",
       "      <td>-187.5</td>\n",
       "    </tr>\n",
       "    <tr>\n",
       "      <th>2024-04-03</th>\n",
       "      <td>0.0</td>\n",
       "      <td>0.0</td>\n",
       "      <td>-12.5</td>\n",
       "      <td>0.00</td>\n",
       "      <td>-29.0</td>\n",
       "      <td>-39.5</td>\n",
       "      <td>-0.5</td>\n",
       "      <td>3.5</td>\n",
       "      <td>0.0</td>\n",
       "      <td>230.0</td>\n",
       "      <td>340.0</td>\n",
       "      <td>0.0</td>\n",
       "      <td>0.0</td>\n",
       "      <td>287.5</td>\n",
       "    </tr>\n",
       "    <tr>\n",
       "      <th>2024-04-04</th>\n",
       "      <td>-800.0</td>\n",
       "      <td>0.0</td>\n",
       "      <td>0.0</td>\n",
       "      <td>400.00</td>\n",
       "      <td>-1.0</td>\n",
       "      <td>24.5</td>\n",
       "      <td>0.0</td>\n",
       "      <td>-50.0</td>\n",
       "      <td>-49.5</td>\n",
       "      <td>260.0</td>\n",
       "      <td>0.0</td>\n",
       "      <td>0.0</td>\n",
       "      <td>-387.5</td>\n",
       "      <td>-187.5</td>\n",
       "    </tr>\n",
       "    <tr>\n",
       "      <th>2024-04-05</th>\n",
       "      <td>0.0</td>\n",
       "      <td>0.0</td>\n",
       "      <td>0.0</td>\n",
       "      <td>400.00</td>\n",
       "      <td>-139.5</td>\n",
       "      <td>2.5</td>\n",
       "      <td>0.0</td>\n",
       "      <td>4.5</td>\n",
       "      <td>116.0</td>\n",
       "      <td>-330.0</td>\n",
       "      <td>0.0</td>\n",
       "      <td>0.0</td>\n",
       "      <td>0.0</td>\n",
       "      <td>287.5</td>\n",
       "    </tr>\n",
       "  </tbody>\n",
       "</table>\n",
       "</div>"
      ]
     },
     "execution_count": 206,
     "metadata": {},
     "output_type": "execute_result"
    }
   ],
   "execution_count": 206
  },
  {
   "metadata": {
    "ExecuteTime": {
     "end_time": "2024-09-17T02:36:13.906326Z",
     "start_time": "2024-09-17T02:36:13.903813Z"
    }
   },
   "cell_type": "code",
   "source": [
    "def try_product_dict(df, products=['cl', 'ec', 'mbt','ng','zs']):\n",
    "    product_dict = {}\n",
    "    not_found = []\n",
    "    for strat_name in df.columns:\n",
    "        found = False\n",
    "        for product in products:\n",
    "            if f'{product.lower()}_' in strat_name.lower():\n",
    "                product_dict[strat_name] = product.lower()\n",
    "                found = True\n",
    "                break # break inner loop, done w products\n",
    "        \n",
    "        if not found:  # If no product was found, do something here\n",
    "            print('Not found...', strat_name, products)\n",
    "            not_found.append(strat_name)  # Example: Append to not_found list for tracking\n",
    "    return product_dict, not_found\n",
    "\n",
    "product_dict, unmatched = try_product_dict(rdf)\n",
    "if unmatched: print(f'FUCK! -- need to match by hand: {unmatched}')"
   ],
   "id": "5caad4ecc6052851",
   "outputs": [],
   "execution_count": 207
  },
  {
   "metadata": {
    "ExecuteTime": {
     "end_time": "2024-09-17T02:36:14.433348Z",
     "start_time": "2024-09-17T02:36:14.430631Z"
    }
   },
   "cell_type": "code",
   "source": [
    "\n",
    "def generate_group_list(df, product_dict):\n",
    "    groups = []\n",
    "    product_counts = {}\n",
    "\n",
    "    for strategy in df.columns:\n",
    "        product = product_dict[strategy]\n",
    "        if product not in product_counts:\n",
    "            product_counts[product] = 0\n",
    "        \n",
    "        # Increment the count and create incremented names like cl1, cl2 ... cl<n>\n",
    "        product_counts[product] += 1\n",
    "        strategy_name = f\"{product.lower()}{product_counts[product]}\"\n",
    "        groups.append(strategy_name)\n",
    "    \n",
    "    return groups\n",
    "\n",
    "groups = generate_group_list(rdf, product_dict)\n",
    "print(\"Groups:\", groups)"
   ],
   "id": "6305242ff8e9e62c",
   "outputs": [
    {
     "name": "stdout",
     "output_type": "stream",
     "text": [
      "Groups: ['cl1', 'ec1', 'ec2', 'ec3', 'mbt1', 'mbt2', 'mbt3', 'mbt4', 'mbt5', 'ng1', 'ng2', 'ng3', 'zs1', 'zs2']\n"
     ]
    }
   ],
   "execution_count": 208
  },
  {
   "metadata": {
    "ExecuteTime": {
     "end_time": "2024-09-17T02:36:14.988923Z",
     "start_time": "2024-09-17T02:36:14.986522Z"
    }
   },
   "cell_type": "code",
   "source": [
    "generic_product_groupings = [i.rstrip('0123456789') for i in groups]\n",
    "generic_product_groupings"
   ],
   "id": "6bc8e4367f1e4f0b",
   "outputs": [
    {
     "data": {
      "text/plain": [
       "['cl',\n",
       " 'ec',\n",
       " 'ec',\n",
       " 'ec',\n",
       " 'mbt',\n",
       " 'mbt',\n",
       " 'mbt',\n",
       " 'mbt',\n",
       " 'mbt',\n",
       " 'ng',\n",
       " 'ng',\n",
       " 'ng',\n",
       " 'zs',\n",
       " 'zs']"
      ]
     },
     "execution_count": 209,
     "metadata": {},
     "output_type": "execute_result"
    }
   ],
   "execution_count": 209
  },
  {
   "metadata": {
    "ExecuteTime": {
     "end_time": "2024-09-17T02:36:15.457433Z",
     "start_time": "2024-09-17T02:36:15.453309Z"
    }
   },
   "cell_type": "code",
   "source": [
    "# def generate_conditional_constraints(groups):\n",
    "#     constraints = []\n",
    "#     # Track products and their corresponding strategies\n",
    "#     product_strategies = {}\n",
    "#     \n",
    "#     # Build a dictionary of strategies by product using the generated groups\n",
    "#     for strategy in groups:\n",
    "#         # Extract the base product name (e.g., \"cl\" from \"cl1\")\n",
    "#         product = strategy.rstrip('0123456789')  \n",
    "#         if product not in product_strategies:\n",
    "#             product_strategies[product] = []\n",
    "#         product_strategies[product].append(strategy)\n",
    "# \n",
    "#     # Generate conditional constraints for each product group\n",
    "#     for strategies in product_strategies.values():\n",
    "#         if len(strategies) > 1:\n",
    "#             # If there are multiple strategies, generate the \"if active\" constraint\n",
    "#             constraint_str = f\"{strategies[0]} + {' + '.join(strategies[1:])} > 0 => \"\n",
    "#             equal_parts = \" = \".join(strategies)\n",
    "#             constraints.append(constraint_str + equal_parts)\n",
    "# \n",
    "#     return constraints\n",
    "\n",
    "def generate_conditional_constraints(groups):\n",
    "    constraints = []\n",
    "    # Track products and their corresponding strategies\n",
    "    product_strategies = {}\n",
    "    \n",
    "    # Build a dictionary of strategies by product using the generated groups\n",
    "    for strategy in groups:\n",
    "        # Extract the base product name (e.g., \"cl\" from \"cl1\")\n",
    "        product = strategy.rstrip('0123456789')  \n",
    "        if product not in product_strategies:\n",
    "            product_strategies[product] = []\n",
    "        product_strategies[product].append(strategy)\n",
    "\n",
    "    # Generate conditional constraints for each product group\n",
    "    for strategies in product_strategies.values():\n",
    "        if len(strategies) > 1:\n",
    "            # Ensure sum of weights is non-negative (not strictly needed if always non-negative)\n",
    "            constraints.append(f\"{' + '.join(strategies)} >= 0\")\n",
    "\n",
    "            # Generate pairwise equal constraints to ensure equal weights or zero\n",
    "            for i in range(len(strategies) - 1):\n",
    "                constraints.append(f\"{strategies[i]} - {strategies[i + 1]} == 0\")\n",
    "\n",
    "    return constraints\n",
    "\n",
    "\n",
    "def generate_constraints_for_equal_weights(groups):\n",
    "    constraints = []\n",
    "    # Track products and their corresponding strategies\n",
    "    product_strategies = {}\n",
    "    \n",
    "    # Build a dictionary of strategies by product using the generated groups\n",
    "    for strategy in groups:\n",
    "        # Extract the base product name (e.g., \"cl\" from \"cl1\")\n",
    "        product = strategy.rstrip('0123456789')  \n",
    "        if product not in product_strategies:\n",
    "            product_strategies[product] = []\n",
    "        product_strategies[product].append(strategy)\n",
    "\n",
    "    # Generate constraints for strict equal weights for each product group\n",
    "    for strategies in product_strategies.values():\n",
    "        if len(strategies) > 1:\n",
    "            # Use the first strategy in the list as the reference\n",
    "            reference = strategies[0]\n",
    "            # Generate constraints to make all other strategies equal to the reference\n",
    "            for i in range(1, len(strategies)):\n",
    "                constraints.append(f\"{reference} - {strategies[i]} == 0\")\n",
    "    \n",
    "    return constraints\n",
    "\n",
    "# Example usage:\n",
    "# groups = ['cl1', 'cl2', 'ec1', 'ec2', 'ec3', 'mbt1', 'ng1', 'zs1', 'zs2']\n",
    "# constraints = generate_conditional_constraints(groups)\n",
    "# print(\"Generated Constraints:\", constraints)\n",
    "\n",
    "equal_wt_or_off = generate_conditional_constraints(groups)\n",
    "\n",
    "\n",
    "equal_wt = generate_constraints_for_equal_weights(groups)"
   ],
   "id": "e4920b43b0c8ab0e",
   "outputs": [],
   "execution_count": 210
  },
  {
   "metadata": {
    "ExecuteTime": {
     "end_time": "2024-09-17T02:36:16.394085Z",
     "start_time": "2024-09-17T02:36:16.390584Z"
    }
   },
   "cell_type": "code",
   "source": "groups",
   "id": "6b9b1d53e5d342a6",
   "outputs": [
    {
     "data": {
      "text/plain": [
       "['cl1',\n",
       " 'ec1',\n",
       " 'ec2',\n",
       " 'ec3',\n",
       " 'mbt1',\n",
       " 'mbt2',\n",
       " 'mbt3',\n",
       " 'mbt4',\n",
       " 'mbt5',\n",
       " 'ng1',\n",
       " 'ng2',\n",
       " 'ng3',\n",
       " 'zs1',\n",
       " 'zs2']"
      ]
     },
     "execution_count": 211,
     "metadata": {},
     "output_type": "execute_result"
    }
   ],
   "execution_count": 211
  },
  {
   "metadata": {
    "ExecuteTime": {
     "end_time": "2024-09-17T02:36:18.528162Z",
     "start_time": "2024-09-17T02:36:18.489067Z"
    }
   },
   "cell_type": "code",
   "source": [
    "\n",
    "\n",
    "# $ per Unit Fit\n",
    "\n",
    "from skfolio import RiskMeasure, Population\n",
    "from sklearn.model_selection import train_test_split\n",
    "from skfolio.optimization import MeanRisk, InverseVolatility, EqualWeighted, HierarchicalRiskParity\n",
    "from utilities import convert_summary_percentage\n",
    "\n",
    "X_train, X_test = train_test_split(rdf, test_size=.33, shuffle=False)\n",
    "\n",
    "ewp = EqualWeighted(portfolio_params=dict(name=\"Equal Weight\"))\n",
    "ewp.fit(X_train)\n",
    "ewp_pf = ewp.predict(X_test)\n",
    "\n",
    "hrp = HierarchicalRiskParity()\n",
    "hrp.fit(X_train)\n",
    "hrp_pf = hrp.predict(X_test)\n",
    "\n",
    "ivp = InverseVolatility(portfolio_params=dict(name=\"Inverse Vola\"))\n",
    "ivp.fit(X_train)\n",
    "ivp_pf = ivp.predict(X_test)\n",
    "\n",
    "mvo = MeanRisk(\n",
    "    portfolio_params=dict(name=\"L2 MVO\"),\n",
    "    # l2_coef=100,\n",
    "    min_weights = 0.0,\n",
    "    max_weights = 10.0,\n",
    "    \n",
    "    # can be groups = {\"SX5E\": [\"Equity\", \"Europe\"], \"SPX\": [\"Equity\", \"US\"], \"TLT\": [\"Bond\", \"US\"]}\n",
    "    # OR:    groups = [[\"Equity\", \"Equity\", \"Bond\"], [\"Europe\", \"US\", \"US\"]]\n",
    "    # we chose the latter.\n",
    "    groups=[\n",
    "        groups,\n",
    "    ],\n",
    "    \n",
    "    # linear_constraints=equal_wt_or_off\n",
    "    # linear_constraints=ewc,\n",
    "    \n",
    "    # TODO: NOTE: this is a BUG! cannot solve with fully statics (maybe it doesnt exist)\n",
    "    linear_constraints=[\n",
    "        'mbt1 = mbt2',\n",
    "        'mbt2 = mbt3',\n",
    "        'mbt3 = mbt4',\n",
    "        'mbt4 = mbt5',\n",
    "        'mbt1 = mbt5',\n",
    "        'mbt2 = mbt4',\n",
    "        'mbt1 - mbt2 == 0',\n",
    "        'mbt1 - mbt3 == 0',\n",
    "        'mbt1 - mbt4 == 0',\n",
    "        'mbt1 - mbt5 == 0',\n",
    "    ]\n",
    ")\n",
    "mvo.fit(X_train)\n",
    "mvo_pf = mvo.predict(X_test)\n",
    "\n",
    "print(f'mvo sortino', mvo_pf.annualized_sortino_ratio)\n",
    "\n",
    "population = Population([mvo_pf, ivp_pf, ewp_pf, hrp_pf])\n",
    "unit_mvo = mvo_pf\n",
    "unit_summary_df = population.summary()\n",
    "unit_population = population\n",
    "\n",
    "unit_summary_df.map(convert_summary_percentage)"
   ],
   "id": "b9cdc3085dca0d0c",
   "outputs": [
    {
     "name": "stdout",
     "output_type": "stream",
     "text": [
      "mvo sortino 17.854169535848357\n"
     ]
    },
    {
     "data": {
      "text/plain": [
       "                                               L2 MVO        Inverse Vola  \\\n",
       "Mean                                          27.8695             26.7775   \n",
       "Annualized Mean                             7023.1043           6747.9382   \n",
       "Variance                                    1523.7716           1327.3075   \n",
       "Annualized Variance                       383990.4307         334481.5008   \n",
       "Semi-Variance                                614.0142            464.7417   \n",
       "Annualized Semi-Variance                   154731.568         117114.9208   \n",
       "Standard Deviation                            39.0355             36.4322   \n",
       "Annualized Standard Deviation                619.6696            578.3438   \n",
       "Semi-Deviation                                24.7793             21.5579   \n",
       "Annualized Semi-Deviation                    393.3593            342.2206   \n",
       "Mean Absolute Deviation                       31.8668             28.9217   \n",
       "CVaR at 95%                                   34.4386             21.5771   \n",
       "EVaR at 95%                                   34.5976             24.6246   \n",
       "Worst Realization                             35.0036             26.3608   \n",
       "CDaR at 95%                                   34.4386             24.7877   \n",
       "MAX Drawdown                                  35.0036             26.3608   \n",
       "Average Drawdown                               4.2484              4.0706   \n",
       "EDaR at 95%                                   34.5982             25.6797   \n",
       "First Lower Partial Moment                    15.9334             14.4608   \n",
       "Ulcer Index                                     10.10                8.77   \n",
       "Gini Mean Difference                          44.4814             40.4343   \n",
       "Value at Risk at 95%                          33.8107             16.2619   \n",
       "Drawdown at Risk at 95%                       33.8107             23.0399   \n",
       "Entropic Risk Measure at 95%                    34.63               25.72   \n",
       "Fourth Central Moment                    5302788.6172        4967773.5473   \n",
       "Fourth Lower Partial Moment              1348918.0847         659451.5725   \n",
       "Skew                                             0.50                0.85   \n",
       "Kurtosis                                         2.28                2.82   \n",
       "Sharpe Ratio                                     0.71                0.73   \n",
       "Annualized Sharpe Ratio                         11.33               11.67   \n",
       "Sortino Ratio                                    1.12                1.24   \n",
       "Annualized Sortino Ratio                        17.85               19.72   \n",
       "Mean Absolute Deviation Ratio                    0.87                0.93   \n",
       "First Lower Partial Moment Ratio                 1.75                1.85   \n",
       "Value at Risk Ratio at 95%                       0.82                1.65   \n",
       "CVaR Ratio at 95%                                0.81                1.24   \n",
       "Entropic Risk Measure Ratio at 95%               0.80                1.04   \n",
       "EVaR Ratio at 95%                                0.81                1.09   \n",
       "Worst Realization Ratio                          0.80                1.02   \n",
       "Drawdown at Risk Ratio at 95%                    0.82                1.16   \n",
       "CDaR Ratio at 95%                                0.81                1.08   \n",
       "Calmar Ratio                                     0.80                1.02   \n",
       "Average Drawdown Ratio                           6.56                6.58   \n",
       "EDaR Ratio at 95%                                0.81                1.04   \n",
       "Ulcer Index Ratio                                2.76                3.05   \n",
       "Gini Mean Difference Ratio                       0.63                0.66   \n",
       "Effective Number of Assets          7.688508814703287  10.168113404003748   \n",
       "Assets Number                                      14                  14   \n",
       "\n",
       "                                     Equal Weight HierarchicalRiskParity  \n",
       "Mean                                      36.2871                22.1433  \n",
       "Annualized Mean                         9144.3553              5580.1035  \n",
       "Variance                                3304.7388               1021.258  \n",
       "Annualized Variance                   832794.1696            257357.0193  \n",
       "Semi-Variance                           1313.8894               387.0517  \n",
       "Annualized Semi-Variance              331100.1203             97537.0204  \n",
       "Standard Deviation                        57.4869                31.9571  \n",
       "Annualized Standard Deviation            912.5756               507.3037  \n",
       "Semi-Deviation                            36.2476                19.6736  \n",
       "Annualized Semi-Deviation                 575.413               312.3092  \n",
       "Mean Absolute Deviation                   43.8398                26.4136  \n",
       "CVaR at 95%                               59.8459                 19.839  \n",
       "EVaR at 95%                               69.5136                20.2171  \n",
       "Worst Realization                         75.3929                 20.646  \n",
       "CDaR at 95%                              102.0959                24.3491  \n",
       "MAX Drawdown                             117.9643                26.8438  \n",
       "Average Drawdown                          17.3694                 3.3883  \n",
       "EDaR at 95%                              110.9111                25.6109  \n",
       "First Lower Partial Moment                21.9199                13.2068  \n",
       "Ulcer Index                                 32.08                   7.63  \n",
       "Gini Mean Difference                      64.1795                36.1811  \n",
       "Value at Risk at 95%                      42.5714                18.9422  \n",
       "Drawdown at Risk at 95%                   84.4643                21.5773  \n",
       "Entropic Risk Measure at 95%                74.75                  20.22  \n",
       "Fourth Central Moment               33519009.6757            2222067.829  \n",
       "Fourth Lower Partial Moment          7370784.5591            438337.7499  \n",
       "Skew                                         0.65                   0.61  \n",
       "Kurtosis                                     3.07                   2.13  \n",
       "Sharpe Ratio                                 0.63                   0.69  \n",
       "Annualized Sharpe Ratio                     10.02                  11.00  \n",
       "Sortino Ratio                                1.00                   1.13  \n",
       "Annualized Sortino Ratio                    15.89                  17.87  \n",
       "Mean Absolute Deviation Ratio                0.83                   0.84  \n",
       "First Lower Partial Moment Ratio             1.66                   1.68  \n",
       "Value at Risk Ratio at 95%                   0.85                   1.17  \n",
       "CVaR Ratio at 95%                            0.61                   1.12  \n",
       "Entropic Risk Measure Ratio at 95%           0.49                   1.10  \n",
       "EVaR Ratio at 95%                            0.52                   1.10  \n",
       "Worst Realization Ratio                      0.48                   1.07  \n",
       "Drawdown at Risk Ratio at 95%                0.43                   1.03  \n",
       "CDaR Ratio at 95%                            0.36                   0.91  \n",
       "Calmar Ratio                                 0.31                   0.82  \n",
       "Average Drawdown Ratio                       2.09                   6.54  \n",
       "EDaR Ratio at 95%                            0.33                   0.86  \n",
       "Ulcer Index Ratio                            1.13                   2.90  \n",
       "Gini Mean Difference Ratio                   0.57                   0.61  \n",
       "Effective Number of Assets                   14.0      5.748336813262374  \n",
       "Assets Number                                  14                     14  "
      ],
      "text/html": [
       "<div>\n",
       "<style scoped>\n",
       "    .dataframe tbody tr th:only-of-type {\n",
       "        vertical-align: middle;\n",
       "    }\n",
       "\n",
       "    .dataframe tbody tr th {\n",
       "        vertical-align: top;\n",
       "    }\n",
       "\n",
       "    .dataframe thead th {\n",
       "        text-align: right;\n",
       "    }\n",
       "</style>\n",
       "<table border=\"1\" class=\"dataframe\">\n",
       "  <thead>\n",
       "    <tr style=\"text-align: right;\">\n",
       "      <th></th>\n",
       "      <th>L2 MVO</th>\n",
       "      <th>Inverse Vola</th>\n",
       "      <th>Equal Weight</th>\n",
       "      <th>HierarchicalRiskParity</th>\n",
       "    </tr>\n",
       "  </thead>\n",
       "  <tbody>\n",
       "    <tr>\n",
       "      <th>Mean</th>\n",
       "      <td>27.8695</td>\n",
       "      <td>26.7775</td>\n",
       "      <td>36.2871</td>\n",
       "      <td>22.1433</td>\n",
       "    </tr>\n",
       "    <tr>\n",
       "      <th>Annualized Mean</th>\n",
       "      <td>7023.1043</td>\n",
       "      <td>6747.9382</td>\n",
       "      <td>9144.3553</td>\n",
       "      <td>5580.1035</td>\n",
       "    </tr>\n",
       "    <tr>\n",
       "      <th>Variance</th>\n",
       "      <td>1523.7716</td>\n",
       "      <td>1327.3075</td>\n",
       "      <td>3304.7388</td>\n",
       "      <td>1021.258</td>\n",
       "    </tr>\n",
       "    <tr>\n",
       "      <th>Annualized Variance</th>\n",
       "      <td>383990.4307</td>\n",
       "      <td>334481.5008</td>\n",
       "      <td>832794.1696</td>\n",
       "      <td>257357.0193</td>\n",
       "    </tr>\n",
       "    <tr>\n",
       "      <th>Semi-Variance</th>\n",
       "      <td>614.0142</td>\n",
       "      <td>464.7417</td>\n",
       "      <td>1313.8894</td>\n",
       "      <td>387.0517</td>\n",
       "    </tr>\n",
       "    <tr>\n",
       "      <th>Annualized Semi-Variance</th>\n",
       "      <td>154731.568</td>\n",
       "      <td>117114.9208</td>\n",
       "      <td>331100.1203</td>\n",
       "      <td>97537.0204</td>\n",
       "    </tr>\n",
       "    <tr>\n",
       "      <th>Standard Deviation</th>\n",
       "      <td>39.0355</td>\n",
       "      <td>36.4322</td>\n",
       "      <td>57.4869</td>\n",
       "      <td>31.9571</td>\n",
       "    </tr>\n",
       "    <tr>\n",
       "      <th>Annualized Standard Deviation</th>\n",
       "      <td>619.6696</td>\n",
       "      <td>578.3438</td>\n",
       "      <td>912.5756</td>\n",
       "      <td>507.3037</td>\n",
       "    </tr>\n",
       "    <tr>\n",
       "      <th>Semi-Deviation</th>\n",
       "      <td>24.7793</td>\n",
       "      <td>21.5579</td>\n",
       "      <td>36.2476</td>\n",
       "      <td>19.6736</td>\n",
       "    </tr>\n",
       "    <tr>\n",
       "      <th>Annualized Semi-Deviation</th>\n",
       "      <td>393.3593</td>\n",
       "      <td>342.2206</td>\n",
       "      <td>575.413</td>\n",
       "      <td>312.3092</td>\n",
       "    </tr>\n",
       "    <tr>\n",
       "      <th>Mean Absolute Deviation</th>\n",
       "      <td>31.8668</td>\n",
       "      <td>28.9217</td>\n",
       "      <td>43.8398</td>\n",
       "      <td>26.4136</td>\n",
       "    </tr>\n",
       "    <tr>\n",
       "      <th>CVaR at 95%</th>\n",
       "      <td>34.4386</td>\n",
       "      <td>21.5771</td>\n",
       "      <td>59.8459</td>\n",
       "      <td>19.839</td>\n",
       "    </tr>\n",
       "    <tr>\n",
       "      <th>EVaR at 95%</th>\n",
       "      <td>34.5976</td>\n",
       "      <td>24.6246</td>\n",
       "      <td>69.5136</td>\n",
       "      <td>20.2171</td>\n",
       "    </tr>\n",
       "    <tr>\n",
       "      <th>Worst Realization</th>\n",
       "      <td>35.0036</td>\n",
       "      <td>26.3608</td>\n",
       "      <td>75.3929</td>\n",
       "      <td>20.646</td>\n",
       "    </tr>\n",
       "    <tr>\n",
       "      <th>CDaR at 95%</th>\n",
       "      <td>34.4386</td>\n",
       "      <td>24.7877</td>\n",
       "      <td>102.0959</td>\n",
       "      <td>24.3491</td>\n",
       "    </tr>\n",
       "    <tr>\n",
       "      <th>MAX Drawdown</th>\n",
       "      <td>35.0036</td>\n",
       "      <td>26.3608</td>\n",
       "      <td>117.9643</td>\n",
       "      <td>26.8438</td>\n",
       "    </tr>\n",
       "    <tr>\n",
       "      <th>Average Drawdown</th>\n",
       "      <td>4.2484</td>\n",
       "      <td>4.0706</td>\n",
       "      <td>17.3694</td>\n",
       "      <td>3.3883</td>\n",
       "    </tr>\n",
       "    <tr>\n",
       "      <th>EDaR at 95%</th>\n",
       "      <td>34.5982</td>\n",
       "      <td>25.6797</td>\n",
       "      <td>110.9111</td>\n",
       "      <td>25.6109</td>\n",
       "    </tr>\n",
       "    <tr>\n",
       "      <th>First Lower Partial Moment</th>\n",
       "      <td>15.9334</td>\n",
       "      <td>14.4608</td>\n",
       "      <td>21.9199</td>\n",
       "      <td>13.2068</td>\n",
       "    </tr>\n",
       "    <tr>\n",
       "      <th>Ulcer Index</th>\n",
       "      <td>10.10</td>\n",
       "      <td>8.77</td>\n",
       "      <td>32.08</td>\n",
       "      <td>7.63</td>\n",
       "    </tr>\n",
       "    <tr>\n",
       "      <th>Gini Mean Difference</th>\n",
       "      <td>44.4814</td>\n",
       "      <td>40.4343</td>\n",
       "      <td>64.1795</td>\n",
       "      <td>36.1811</td>\n",
       "    </tr>\n",
       "    <tr>\n",
       "      <th>Value at Risk at 95%</th>\n",
       "      <td>33.8107</td>\n",
       "      <td>16.2619</td>\n",
       "      <td>42.5714</td>\n",
       "      <td>18.9422</td>\n",
       "    </tr>\n",
       "    <tr>\n",
       "      <th>Drawdown at Risk at 95%</th>\n",
       "      <td>33.8107</td>\n",
       "      <td>23.0399</td>\n",
       "      <td>84.4643</td>\n",
       "      <td>21.5773</td>\n",
       "    </tr>\n",
       "    <tr>\n",
       "      <th>Entropic Risk Measure at 95%</th>\n",
       "      <td>34.63</td>\n",
       "      <td>25.72</td>\n",
       "      <td>74.75</td>\n",
       "      <td>20.22</td>\n",
       "    </tr>\n",
       "    <tr>\n",
       "      <th>Fourth Central Moment</th>\n",
       "      <td>5302788.6172</td>\n",
       "      <td>4967773.5473</td>\n",
       "      <td>33519009.6757</td>\n",
       "      <td>2222067.829</td>\n",
       "    </tr>\n",
       "    <tr>\n",
       "      <th>Fourth Lower Partial Moment</th>\n",
       "      <td>1348918.0847</td>\n",
       "      <td>659451.5725</td>\n",
       "      <td>7370784.5591</td>\n",
       "      <td>438337.7499</td>\n",
       "    </tr>\n",
       "    <tr>\n",
       "      <th>Skew</th>\n",
       "      <td>0.50</td>\n",
       "      <td>0.85</td>\n",
       "      <td>0.65</td>\n",
       "      <td>0.61</td>\n",
       "    </tr>\n",
       "    <tr>\n",
       "      <th>Kurtosis</th>\n",
       "      <td>2.28</td>\n",
       "      <td>2.82</td>\n",
       "      <td>3.07</td>\n",
       "      <td>2.13</td>\n",
       "    </tr>\n",
       "    <tr>\n",
       "      <th>Sharpe Ratio</th>\n",
       "      <td>0.71</td>\n",
       "      <td>0.73</td>\n",
       "      <td>0.63</td>\n",
       "      <td>0.69</td>\n",
       "    </tr>\n",
       "    <tr>\n",
       "      <th>Annualized Sharpe Ratio</th>\n",
       "      <td>11.33</td>\n",
       "      <td>11.67</td>\n",
       "      <td>10.02</td>\n",
       "      <td>11.00</td>\n",
       "    </tr>\n",
       "    <tr>\n",
       "      <th>Sortino Ratio</th>\n",
       "      <td>1.12</td>\n",
       "      <td>1.24</td>\n",
       "      <td>1.00</td>\n",
       "      <td>1.13</td>\n",
       "    </tr>\n",
       "    <tr>\n",
       "      <th>Annualized Sortino Ratio</th>\n",
       "      <td>17.85</td>\n",
       "      <td>19.72</td>\n",
       "      <td>15.89</td>\n",
       "      <td>17.87</td>\n",
       "    </tr>\n",
       "    <tr>\n",
       "      <th>Mean Absolute Deviation Ratio</th>\n",
       "      <td>0.87</td>\n",
       "      <td>0.93</td>\n",
       "      <td>0.83</td>\n",
       "      <td>0.84</td>\n",
       "    </tr>\n",
       "    <tr>\n",
       "      <th>First Lower Partial Moment Ratio</th>\n",
       "      <td>1.75</td>\n",
       "      <td>1.85</td>\n",
       "      <td>1.66</td>\n",
       "      <td>1.68</td>\n",
       "    </tr>\n",
       "    <tr>\n",
       "      <th>Value at Risk Ratio at 95%</th>\n",
       "      <td>0.82</td>\n",
       "      <td>1.65</td>\n",
       "      <td>0.85</td>\n",
       "      <td>1.17</td>\n",
       "    </tr>\n",
       "    <tr>\n",
       "      <th>CVaR Ratio at 95%</th>\n",
       "      <td>0.81</td>\n",
       "      <td>1.24</td>\n",
       "      <td>0.61</td>\n",
       "      <td>1.12</td>\n",
       "    </tr>\n",
       "    <tr>\n",
       "      <th>Entropic Risk Measure Ratio at 95%</th>\n",
       "      <td>0.80</td>\n",
       "      <td>1.04</td>\n",
       "      <td>0.49</td>\n",
       "      <td>1.10</td>\n",
       "    </tr>\n",
       "    <tr>\n",
       "      <th>EVaR Ratio at 95%</th>\n",
       "      <td>0.81</td>\n",
       "      <td>1.09</td>\n",
       "      <td>0.52</td>\n",
       "      <td>1.10</td>\n",
       "    </tr>\n",
       "    <tr>\n",
       "      <th>Worst Realization Ratio</th>\n",
       "      <td>0.80</td>\n",
       "      <td>1.02</td>\n",
       "      <td>0.48</td>\n",
       "      <td>1.07</td>\n",
       "    </tr>\n",
       "    <tr>\n",
       "      <th>Drawdown at Risk Ratio at 95%</th>\n",
       "      <td>0.82</td>\n",
       "      <td>1.16</td>\n",
       "      <td>0.43</td>\n",
       "      <td>1.03</td>\n",
       "    </tr>\n",
       "    <tr>\n",
       "      <th>CDaR Ratio at 95%</th>\n",
       "      <td>0.81</td>\n",
       "      <td>1.08</td>\n",
       "      <td>0.36</td>\n",
       "      <td>0.91</td>\n",
       "    </tr>\n",
       "    <tr>\n",
       "      <th>Calmar Ratio</th>\n",
       "      <td>0.80</td>\n",
       "      <td>1.02</td>\n",
       "      <td>0.31</td>\n",
       "      <td>0.82</td>\n",
       "    </tr>\n",
       "    <tr>\n",
       "      <th>Average Drawdown Ratio</th>\n",
       "      <td>6.56</td>\n",
       "      <td>6.58</td>\n",
       "      <td>2.09</td>\n",
       "      <td>6.54</td>\n",
       "    </tr>\n",
       "    <tr>\n",
       "      <th>EDaR Ratio at 95%</th>\n",
       "      <td>0.81</td>\n",
       "      <td>1.04</td>\n",
       "      <td>0.33</td>\n",
       "      <td>0.86</td>\n",
       "    </tr>\n",
       "    <tr>\n",
       "      <th>Ulcer Index Ratio</th>\n",
       "      <td>2.76</td>\n",
       "      <td>3.05</td>\n",
       "      <td>1.13</td>\n",
       "      <td>2.90</td>\n",
       "    </tr>\n",
       "    <tr>\n",
       "      <th>Gini Mean Difference Ratio</th>\n",
       "      <td>0.63</td>\n",
       "      <td>0.66</td>\n",
       "      <td>0.57</td>\n",
       "      <td>0.61</td>\n",
       "    </tr>\n",
       "    <tr>\n",
       "      <th>Effective Number of Assets</th>\n",
       "      <td>7.688508814703287</td>\n",
       "      <td>10.168113404003748</td>\n",
       "      <td>14.0</td>\n",
       "      <td>5.748336813262374</td>\n",
       "    </tr>\n",
       "    <tr>\n",
       "      <th>Assets Number</th>\n",
       "      <td>14</td>\n",
       "      <td>14</td>\n",
       "      <td>14</td>\n",
       "      <td>14</td>\n",
       "    </tr>\n",
       "  </tbody>\n",
       "</table>\n",
       "</div>"
      ]
     },
     "execution_count": 212,
     "metadata": {},
     "output_type": "execute_result"
    }
   ],
   "execution_count": 212
  },
  {
   "metadata": {
    "ExecuteTime": {
     "end_time": "2024-09-17T02:36:20.913195Z",
     "start_time": "2024-09-17T02:36:20.861615Z"
    }
   },
   "cell_type": "code",
   "source": "population.plot_composition()",
   "id": "9d2c651e3e05d68a",
   "outputs": [
    {
     "data": {
      "application/vnd.plotly.v1+json": {
       "data": [
        {
         "alignmentgroup": "True",
         "hovertemplate": "asset=mbt_ngc_1<br>index=%{x}<br>value=%{y}<extra></extra>",
         "legendgroup": "mbt_ngc_1",
         "marker": {
          "color": "#636efa",
          "pattern": {
           "shape": ""
          }
         },
         "name": "mbt_ngc_1",
         "offsetgroup": "mbt_ngc_1",
         "orientation": "v",
         "showlegend": true,
         "textposition": "auto",
         "x": [
          "L2 MVO",
          "Inverse Vola",
          "Equal Weight",
          "HierarchicalRiskParity"
         ],
         "xaxis": "x",
         "y": [
          0.1820454259889046,
          0.1849437248066871,
          0.07142857142857142,
          0.34297542282962973
         ],
         "yaxis": "y",
         "type": "bar"
        },
        {
         "alignmentgroup": "True",
         "hovertemplate": "asset=mbt_ngf_2<br>index=%{x}<br>value=%{y}<extra></extra>",
         "legendgroup": "mbt_ngf_2",
         "marker": {
          "color": "#EF553B",
          "pattern": {
           "shape": ""
          }
         },
         "name": "mbt_ngf_2",
         "offsetgroup": "mbt_ngf_2",
         "orientation": "v",
         "showlegend": true,
         "textposition": "auto",
         "x": [
          "L2 MVO",
          "Inverse Vola",
          "Equal Weight",
          "HierarchicalRiskParity"
         ],
         "xaxis": "x",
         "y": [
          0.18204542595730427,
          0.11536596703774984,
          0.07142857142857142,
          0.11259606770559524
         ],
         "yaxis": "y",
         "type": "bar"
        },
        {
         "alignmentgroup": "True",
         "hovertemplate": "asset=mbt_ngf_1<br>index=%{x}<br>value=%{y}<extra></extra>",
         "legendgroup": "mbt_ngf_1",
         "marker": {
          "color": "#00cc96",
          "pattern": {
           "shape": ""
          }
         },
         "name": "mbt_ngf_1",
         "offsetgroup": "mbt_ngf_1",
         "orientation": "v",
         "showlegend": true,
         "textposition": "auto",
         "x": [
          "L2 MVO",
          "Inverse Vola",
          "Equal Weight",
          "HierarchicalRiskParity"
         ],
         "xaxis": "x",
         "y": [
          0.18204542594943632,
          0.1000331356409125,
          0.07142857142857142,
          0.10847922677704828
         ],
         "yaxis": "y",
         "type": "bar"
        },
        {
         "alignmentgroup": "True",
         "hovertemplate": "asset=mbt_mema3_1<br>index=%{x}<br>value=%{y}<extra></extra>",
         "legendgroup": "mbt_mema3_1",
         "marker": {
          "color": "#ab63fa",
          "pattern": {
           "shape": ""
          }
         },
         "name": "mbt_mema3_1",
         "offsetgroup": "mbt_mema3_1",
         "orientation": "v",
         "showlegend": true,
         "textposition": "auto",
         "x": [
          "L2 MVO",
          "Inverse Vola",
          "Equal Weight",
          "HierarchicalRiskParity"
         ],
         "xaxis": "x",
         "y": [
          0.09269335821972448,
          0.0940389206187966,
          0.07142857142857142,
          0.09607002989717507
         ],
         "yaxis": "y",
         "type": "bar"
        },
        {
         "alignmentgroup": "True",
         "hovertemplate": "asset=mbt_ma_dvg_so<br>index=%{x}<br>value=%{y}<extra></extra>",
         "legendgroup": "mbt_ma_dvg_so",
         "marker": {
          "color": "#FFA15A",
          "pattern": {
           "shape": ""
          }
         },
         "name": "mbt_ma_dvg_so",
         "offsetgroup": "mbt_ma_dvg_so",
         "orientation": "v",
         "showlegend": true,
         "textposition": "auto",
         "x": [
          "L2 MVO",
          "Inverse Vola",
          "Equal Weight",
          "HierarchicalRiskParity"
         ],
         "xaxis": "x",
         "y": [
          0.09269335813336489,
          0.0935016027904467,
          0.07142857142857142,
          0.09870204113850245
         ],
         "yaxis": "y",
         "type": "bar"
        },
        {
         "alignmentgroup": "True",
         "hovertemplate": "asset=ec_gcz<br>index=%{x}<br>value=%{y}<extra></extra>",
         "legendgroup": "ec_gcz",
         "marker": {
          "color": "#19d3f3",
          "pattern": {
           "shape": ""
          }
         },
         "name": "ec_gcz",
         "offsetgroup": "ec_gcz",
         "orientation": "v",
         "showlegend": true,
         "textposition": "auto",
         "x": [
          "L2 MVO",
          "Inverse Vola",
          "Equal Weight",
          "HierarchicalRiskParity"
         ],
         "xaxis": "x",
         "y": [
          0.05974339675719524,
          0.08272244655029926,
          0.07142857142857142,
          0.05789146535414192
         ],
         "yaxis": "y",
         "type": "bar"
        },
        {
         "alignmentgroup": "True",
         "hovertemplate": "asset=zs_ngf_1<br>index=%{x}<br>value=%{y}<extra></extra>",
         "legendgroup": "zs_ngf_1",
         "marker": {
          "color": "#FF6692",
          "pattern": {
           "shape": ""
          }
         },
         "name": "zs_ngf_1",
         "offsetgroup": "zs_ngf_1",
         "orientation": "v",
         "showlegend": true,
         "textposition": "auto",
         "x": [
          "L2 MVO",
          "Inverse Vola",
          "Equal Weight",
          "HierarchicalRiskParity"
         ],
         "xaxis": "x",
         "y": [
          0.05950300332564053,
          0.03698679928711254,
          0.07142857142857142,
          0.013694995165385184
         ],
         "yaxis": "y",
         "type": "bar"
        },
        {
         "alignmentgroup": "True",
         "hovertemplate": "asset=ec_ngc<br>index=%{x}<br>value=%{y}<extra></extra>",
         "legendgroup": "ec_ngc",
         "marker": {
          "color": "#B6E880",
          "pattern": {
           "shape": ""
          }
         },
         "name": "ec_ngc",
         "offsetgroup": "ec_ngc",
         "orientation": "v",
         "showlegend": true,
         "textposition": "auto",
         "x": [
          "L2 MVO",
          "Inverse Vola",
          "Equal Weight",
          "HierarchicalRiskParity"
         ],
         "xaxis": "x",
         "y": [
          0.05670109194735825,
          0.08231245576276272,
          0.07142857142857142,
          0.08781334269674469
         ],
         "yaxis": "y",
         "type": "bar"
        },
        {
         "alignmentgroup": "True",
         "hovertemplate": "asset=zs_ngc_1<br>index=%{x}<br>value=%{y}<extra></extra>",
         "legendgroup": "zs_ngc_1",
         "marker": {
          "color": "#FF97FF",
          "pattern": {
           "shape": ""
          }
         },
         "name": "zs_ngc_1",
         "offsetgroup": "zs_ngc_1",
         "orientation": "v",
         "showlegend": true,
         "textposition": "auto",
         "x": [
          "L2 MVO",
          "Inverse Vola",
          "Equal Weight",
          "HierarchicalRiskParity"
         ],
         "xaxis": "x",
         "y": [
          0.043552835899728984,
          0.028594617897534202,
          0.07142857142857142,
          0.010597367289075744
         ],
         "yaxis": "y",
         "type": "bar"
        },
        {
         "alignmentgroup": "True",
         "hovertemplate": "asset=ec_ngf<br>index=%{x}<br>value=%{y}<extra></extra>",
         "legendgroup": "ec_ngf",
         "marker": {
          "color": "#FECB52",
          "pattern": {
           "shape": ""
          }
         },
         "name": "ec_ngf",
         "offsetgroup": "ec_ngf",
         "orientation": "v",
         "showlegend": true,
         "textposition": "auto",
         "x": [
          "L2 MVO",
          "Inverse Vola",
          "Equal Weight",
          "HierarchicalRiskParity"
         ],
         "xaxis": "x",
         "y": [
          0.028812828853014127,
          0.05428877454151554,
          0.07142857142857142,
          0.029504513575230727
         ],
         "yaxis": "y",
         "type": "bar"
        },
        {
         "alignmentgroup": "True",
         "hovertemplate": "asset=ng_ngf_2<br>index=%{x}<br>value=%{y}<extra></extra>",
         "legendgroup": "ng_ngf_2",
         "marker": {
          "color": "#636efa",
          "pattern": {
           "shape": ""
          }
         },
         "name": "ng_ngf_2",
         "offsetgroup": "ng_ngf_2",
         "orientation": "v",
         "showlegend": true,
         "textposition": "auto",
         "x": [
          "L2 MVO",
          "Inverse Vola",
          "Equal Weight",
          "HierarchicalRiskParity"
         ],
         "xaxis": "x",
         "y": [
          0.02016384879328829,
          0.04874934486594504,
          0.07142857142857142,
          0.023829853212530956
         ],
         "yaxis": "y",
         "type": "bar"
        },
        {
         "alignmentgroup": "True",
         "hovertemplate": "asset=ng_ngf<br>index=%{x}<br>value=%{y}<extra></extra>",
         "legendgroup": "ng_ngf",
         "marker": {
          "color": "#EF553B",
          "pattern": {
           "shape": ""
          }
         },
         "name": "ng_ngf",
         "offsetgroup": "ng_ngf",
         "orientation": "v",
         "showlegend": true,
         "textposition": "auto",
         "x": [
          "L2 MVO",
          "Inverse Vola",
          "Equal Weight",
          "HierarchicalRiskParity"
         ],
         "xaxis": "x",
         "y": [
          0.0,
          0.032459488910787614,
          0.07142857142857142,
          0.007982657219855733
         ],
         "yaxis": "y",
         "type": "bar"
        },
        {
         "alignmentgroup": "True",
         "hovertemplate": "asset=ng_gapcont2020<br>index=%{x}<br>value=%{y}<extra></extra>",
         "legendgroup": "ng_gapcont2020",
         "marker": {
          "color": "#00cc96",
          "pattern": {
           "shape": ""
          }
         },
         "name": "ng_gapcont2020",
         "offsetgroup": "ng_gapcont2020",
         "orientation": "v",
         "showlegend": true,
         "textposition": "auto",
         "x": [
          "L2 MVO",
          "Inverse Vola",
          "Equal Weight",
          "HierarchicalRiskParity"
         ],
         "xaxis": "x",
         "y": [
          0.0,
          0.0237577566014803,
          0.07142857142857142,
          0.004276367136471468
         ],
         "yaxis": "y",
         "type": "bar"
        },
        {
         "alignmentgroup": "True",
         "hovertemplate": "asset=cl_gapcont2020<br>index=%{x}<br>value=%{y}<extra></extra>",
         "legendgroup": "cl_gapcont2020",
         "marker": {
          "color": "#ab63fa",
          "pattern": {
           "shape": ""
          }
         },
         "name": "cl_gapcont2020",
         "offsetgroup": "cl_gapcont2020",
         "orientation": "v",
         "showlegend": true,
         "textposition": "auto",
         "x": [
          "L2 MVO",
          "Inverse Vola",
          "Equal Weight",
          "HierarchicalRiskParity"
         ],
         "xaxis": "x",
         "y": [
          0.0,
          0.022244964687969982,
          0.07142857142857142,
          0.005586650002612856
         ],
         "yaxis": "y",
         "type": "bar"
        }
       ],
       "layout": {
        "template": {
         "data": {
          "histogram2dcontour": [
           {
            "type": "histogram2dcontour",
            "colorbar": {
             "outlinewidth": 0,
             "ticks": ""
            },
            "colorscale": [
             [
              0.0,
              "#0d0887"
             ],
             [
              0.1111111111111111,
              "#46039f"
             ],
             [
              0.2222222222222222,
              "#7201a8"
             ],
             [
              0.3333333333333333,
              "#9c179e"
             ],
             [
              0.4444444444444444,
              "#bd3786"
             ],
             [
              0.5555555555555556,
              "#d8576b"
             ],
             [
              0.6666666666666666,
              "#ed7953"
             ],
             [
              0.7777777777777778,
              "#fb9f3a"
             ],
             [
              0.8888888888888888,
              "#fdca26"
             ],
             [
              1.0,
              "#f0f921"
             ]
            ]
           }
          ],
          "choropleth": [
           {
            "type": "choropleth",
            "colorbar": {
             "outlinewidth": 0,
             "ticks": ""
            }
           }
          ],
          "histogram2d": [
           {
            "type": "histogram2d",
            "colorbar": {
             "outlinewidth": 0,
             "ticks": ""
            },
            "colorscale": [
             [
              0.0,
              "#0d0887"
             ],
             [
              0.1111111111111111,
              "#46039f"
             ],
             [
              0.2222222222222222,
              "#7201a8"
             ],
             [
              0.3333333333333333,
              "#9c179e"
             ],
             [
              0.4444444444444444,
              "#bd3786"
             ],
             [
              0.5555555555555556,
              "#d8576b"
             ],
             [
              0.6666666666666666,
              "#ed7953"
             ],
             [
              0.7777777777777778,
              "#fb9f3a"
             ],
             [
              0.8888888888888888,
              "#fdca26"
             ],
             [
              1.0,
              "#f0f921"
             ]
            ]
           }
          ],
          "heatmap": [
           {
            "type": "heatmap",
            "colorbar": {
             "outlinewidth": 0,
             "ticks": ""
            },
            "colorscale": [
             [
              0.0,
              "#0d0887"
             ],
             [
              0.1111111111111111,
              "#46039f"
             ],
             [
              0.2222222222222222,
              "#7201a8"
             ],
             [
              0.3333333333333333,
              "#9c179e"
             ],
             [
              0.4444444444444444,
              "#bd3786"
             ],
             [
              0.5555555555555556,
              "#d8576b"
             ],
             [
              0.6666666666666666,
              "#ed7953"
             ],
             [
              0.7777777777777778,
              "#fb9f3a"
             ],
             [
              0.8888888888888888,
              "#fdca26"
             ],
             [
              1.0,
              "#f0f921"
             ]
            ]
           }
          ],
          "heatmapgl": [
           {
            "type": "heatmapgl",
            "colorbar": {
             "outlinewidth": 0,
             "ticks": ""
            },
            "colorscale": [
             [
              0.0,
              "#0d0887"
             ],
             [
              0.1111111111111111,
              "#46039f"
             ],
             [
              0.2222222222222222,
              "#7201a8"
             ],
             [
              0.3333333333333333,
              "#9c179e"
             ],
             [
              0.4444444444444444,
              "#bd3786"
             ],
             [
              0.5555555555555556,
              "#d8576b"
             ],
             [
              0.6666666666666666,
              "#ed7953"
             ],
             [
              0.7777777777777778,
              "#fb9f3a"
             ],
             [
              0.8888888888888888,
              "#fdca26"
             ],
             [
              1.0,
              "#f0f921"
             ]
            ]
           }
          ],
          "contourcarpet": [
           {
            "type": "contourcarpet",
            "colorbar": {
             "outlinewidth": 0,
             "ticks": ""
            }
           }
          ],
          "contour": [
           {
            "type": "contour",
            "colorbar": {
             "outlinewidth": 0,
             "ticks": ""
            },
            "colorscale": [
             [
              0.0,
              "#0d0887"
             ],
             [
              0.1111111111111111,
              "#46039f"
             ],
             [
              0.2222222222222222,
              "#7201a8"
             ],
             [
              0.3333333333333333,
              "#9c179e"
             ],
             [
              0.4444444444444444,
              "#bd3786"
             ],
             [
              0.5555555555555556,
              "#d8576b"
             ],
             [
              0.6666666666666666,
              "#ed7953"
             ],
             [
              0.7777777777777778,
              "#fb9f3a"
             ],
             [
              0.8888888888888888,
              "#fdca26"
             ],
             [
              1.0,
              "#f0f921"
             ]
            ]
           }
          ],
          "surface": [
           {
            "type": "surface",
            "colorbar": {
             "outlinewidth": 0,
             "ticks": ""
            },
            "colorscale": [
             [
              0.0,
              "#0d0887"
             ],
             [
              0.1111111111111111,
              "#46039f"
             ],
             [
              0.2222222222222222,
              "#7201a8"
             ],
             [
              0.3333333333333333,
              "#9c179e"
             ],
             [
              0.4444444444444444,
              "#bd3786"
             ],
             [
              0.5555555555555556,
              "#d8576b"
             ],
             [
              0.6666666666666666,
              "#ed7953"
             ],
             [
              0.7777777777777778,
              "#fb9f3a"
             ],
             [
              0.8888888888888888,
              "#fdca26"
             ],
             [
              1.0,
              "#f0f921"
             ]
            ]
           }
          ],
          "mesh3d": [
           {
            "type": "mesh3d",
            "colorbar": {
             "outlinewidth": 0,
             "ticks": ""
            }
           }
          ],
          "scatter": [
           {
            "fillpattern": {
             "fillmode": "overlay",
             "size": 10,
             "solidity": 0.2
            },
            "type": "scatter"
           }
          ],
          "parcoords": [
           {
            "type": "parcoords",
            "line": {
             "colorbar": {
              "outlinewidth": 0,
              "ticks": ""
             }
            }
           }
          ],
          "scatterpolargl": [
           {
            "type": "scatterpolargl",
            "marker": {
             "colorbar": {
              "outlinewidth": 0,
              "ticks": ""
             }
            }
           }
          ],
          "bar": [
           {
            "error_x": {
             "color": "#2a3f5f"
            },
            "error_y": {
             "color": "#2a3f5f"
            },
            "marker": {
             "line": {
              "color": "#E5ECF6",
              "width": 0.5
             },
             "pattern": {
              "fillmode": "overlay",
              "size": 10,
              "solidity": 0.2
             }
            },
            "type": "bar"
           }
          ],
          "scattergeo": [
           {
            "type": "scattergeo",
            "marker": {
             "colorbar": {
              "outlinewidth": 0,
              "ticks": ""
             }
            }
           }
          ],
          "scatterpolar": [
           {
            "type": "scatterpolar",
            "marker": {
             "colorbar": {
              "outlinewidth": 0,
              "ticks": ""
             }
            }
           }
          ],
          "histogram": [
           {
            "marker": {
             "pattern": {
              "fillmode": "overlay",
              "size": 10,
              "solidity": 0.2
             }
            },
            "type": "histogram"
           }
          ],
          "scattergl": [
           {
            "type": "scattergl",
            "marker": {
             "colorbar": {
              "outlinewidth": 0,
              "ticks": ""
             }
            }
           }
          ],
          "scatter3d": [
           {
            "type": "scatter3d",
            "line": {
             "colorbar": {
              "outlinewidth": 0,
              "ticks": ""
             }
            },
            "marker": {
             "colorbar": {
              "outlinewidth": 0,
              "ticks": ""
             }
            }
           }
          ],
          "scattermapbox": [
           {
            "type": "scattermapbox",
            "marker": {
             "colorbar": {
              "outlinewidth": 0,
              "ticks": ""
             }
            }
           }
          ],
          "scatterternary": [
           {
            "type": "scatterternary",
            "marker": {
             "colorbar": {
              "outlinewidth": 0,
              "ticks": ""
             }
            }
           }
          ],
          "scattercarpet": [
           {
            "type": "scattercarpet",
            "marker": {
             "colorbar": {
              "outlinewidth": 0,
              "ticks": ""
             }
            }
           }
          ],
          "carpet": [
           {
            "aaxis": {
             "endlinecolor": "#2a3f5f",
             "gridcolor": "white",
             "linecolor": "white",
             "minorgridcolor": "white",
             "startlinecolor": "#2a3f5f"
            },
            "baxis": {
             "endlinecolor": "#2a3f5f",
             "gridcolor": "white",
             "linecolor": "white",
             "minorgridcolor": "white",
             "startlinecolor": "#2a3f5f"
            },
            "type": "carpet"
           }
          ],
          "table": [
           {
            "cells": {
             "fill": {
              "color": "#EBF0F8"
             },
             "line": {
              "color": "white"
             }
            },
            "header": {
             "fill": {
              "color": "#C8D4E3"
             },
             "line": {
              "color": "white"
             }
            },
            "type": "table"
           }
          ],
          "barpolar": [
           {
            "marker": {
             "line": {
              "color": "#E5ECF6",
              "width": 0.5
             },
             "pattern": {
              "fillmode": "overlay",
              "size": 10,
              "solidity": 0.2
             }
            },
            "type": "barpolar"
           }
          ],
          "pie": [
           {
            "automargin": true,
            "type": "pie"
           }
          ]
         },
         "layout": {
          "autotypenumbers": "strict",
          "colorway": [
           "#636efa",
           "#EF553B",
           "#00cc96",
           "#ab63fa",
           "#FFA15A",
           "#19d3f3",
           "#FF6692",
           "#B6E880",
           "#FF97FF",
           "#FECB52"
          ],
          "font": {
           "color": "#2a3f5f"
          },
          "hovermode": "closest",
          "hoverlabel": {
           "align": "left"
          },
          "paper_bgcolor": "white",
          "plot_bgcolor": "#E5ECF6",
          "polar": {
           "bgcolor": "#E5ECF6",
           "angularaxis": {
            "gridcolor": "white",
            "linecolor": "white",
            "ticks": ""
           },
           "radialaxis": {
            "gridcolor": "white",
            "linecolor": "white",
            "ticks": ""
           }
          },
          "ternary": {
           "bgcolor": "#E5ECF6",
           "aaxis": {
            "gridcolor": "white",
            "linecolor": "white",
            "ticks": ""
           },
           "baxis": {
            "gridcolor": "white",
            "linecolor": "white",
            "ticks": ""
           },
           "caxis": {
            "gridcolor": "white",
            "linecolor": "white",
            "ticks": ""
           }
          },
          "coloraxis": {
           "colorbar": {
            "outlinewidth": 0,
            "ticks": ""
           }
          },
          "colorscale": {
           "sequential": [
            [
             0.0,
             "#0d0887"
            ],
            [
             0.1111111111111111,
             "#46039f"
            ],
            [
             0.2222222222222222,
             "#7201a8"
            ],
            [
             0.3333333333333333,
             "#9c179e"
            ],
            [
             0.4444444444444444,
             "#bd3786"
            ],
            [
             0.5555555555555556,
             "#d8576b"
            ],
            [
             0.6666666666666666,
             "#ed7953"
            ],
            [
             0.7777777777777778,
             "#fb9f3a"
            ],
            [
             0.8888888888888888,
             "#fdca26"
            ],
            [
             1.0,
             "#f0f921"
            ]
           ],
           "sequentialminus": [
            [
             0.0,
             "#0d0887"
            ],
            [
             0.1111111111111111,
             "#46039f"
            ],
            [
             0.2222222222222222,
             "#7201a8"
            ],
            [
             0.3333333333333333,
             "#9c179e"
            ],
            [
             0.4444444444444444,
             "#bd3786"
            ],
            [
             0.5555555555555556,
             "#d8576b"
            ],
            [
             0.6666666666666666,
             "#ed7953"
            ],
            [
             0.7777777777777778,
             "#fb9f3a"
            ],
            [
             0.8888888888888888,
             "#fdca26"
            ],
            [
             1.0,
             "#f0f921"
            ]
           ],
           "diverging": [
            [
             0,
             "#8e0152"
            ],
            [
             0.1,
             "#c51b7d"
            ],
            [
             0.2,
             "#de77ae"
            ],
            [
             0.3,
             "#f1b6da"
            ],
            [
             0.4,
             "#fde0ef"
            ],
            [
             0.5,
             "#f7f7f7"
            ],
            [
             0.6,
             "#e6f5d0"
            ],
            [
             0.7,
             "#b8e186"
            ],
            [
             0.8,
             "#7fbc41"
            ],
            [
             0.9,
             "#4d9221"
            ],
            [
             1,
             "#276419"
            ]
           ]
          },
          "xaxis": {
           "gridcolor": "white",
           "linecolor": "white",
           "ticks": "",
           "title": {
            "standoff": 15
           },
           "zerolinecolor": "white",
           "automargin": true,
           "zerolinewidth": 2
          },
          "yaxis": {
           "gridcolor": "white",
           "linecolor": "white",
           "ticks": "",
           "title": {
            "standoff": 15
           },
           "zerolinecolor": "white",
           "automargin": true,
           "zerolinewidth": 2
          },
          "scene": {
           "xaxis": {
            "backgroundcolor": "#E5ECF6",
            "gridcolor": "white",
            "linecolor": "white",
            "showbackground": true,
            "ticks": "",
            "zerolinecolor": "white",
            "gridwidth": 2
           },
           "yaxis": {
            "backgroundcolor": "#E5ECF6",
            "gridcolor": "white",
            "linecolor": "white",
            "showbackground": true,
            "ticks": "",
            "zerolinecolor": "white",
            "gridwidth": 2
           },
           "zaxis": {
            "backgroundcolor": "#E5ECF6",
            "gridcolor": "white",
            "linecolor": "white",
            "showbackground": true,
            "ticks": "",
            "zerolinecolor": "white",
            "gridwidth": 2
           }
          },
          "shapedefaults": {
           "line": {
            "color": "#2a3f5f"
           }
          },
          "annotationdefaults": {
           "arrowcolor": "#2a3f5f",
           "arrowhead": 0,
           "arrowwidth": 1
          },
          "geo": {
           "bgcolor": "white",
           "landcolor": "#E5ECF6",
           "subunitcolor": "white",
           "showland": true,
           "showlakes": true,
           "lakecolor": "white"
          },
          "title": {
           "x": 0.05
          },
          "mapbox": {
           "style": "light"
          }
         }
        },
        "xaxis": {
         "anchor": "y",
         "domain": [
          0.0,
          1.0
         ],
         "title": {
          "text": "Portfolios"
         }
        },
        "yaxis": {
         "anchor": "x",
         "domain": [
          0.0,
          1.0
         ],
         "title": {
          "text": "Weight"
         },
         "tickformat": ",.0%"
        },
        "legend": {
         "title": {
          "text": "asset"
         },
         "tracegroupgap": 0,
         "yanchor": "top",
         "y": 0.99,
         "xanchor": "left",
         "x": 1.15
        },
        "margin": {
         "t": 60
        },
        "barmode": "relative",
        "title": {
         "text": "Portfolios Composition"
        }
       },
       "config": {
        "plotlyServerURL": "https://plot.ly"
       }
      },
      "text/html": [
       "<div>                            <div id=\"494559ce-f37c-4787-96e0-51b331a710aa\" class=\"plotly-graph-div\" style=\"height:525px; width:100%;\"></div>            <script type=\"text/javascript\">                require([\"plotly\"], function(Plotly) {                    window.PLOTLYENV=window.PLOTLYENV || {};                                    if (document.getElementById(\"494559ce-f37c-4787-96e0-51b331a710aa\")) {                    Plotly.newPlot(                        \"494559ce-f37c-4787-96e0-51b331a710aa\",                        [{\"alignmentgroup\":\"True\",\"hovertemplate\":\"asset=mbt_ngc_1\\u003cbr\\u003eindex=%{x}\\u003cbr\\u003evalue=%{y}\\u003cextra\\u003e\\u003c\\u002fextra\\u003e\",\"legendgroup\":\"mbt_ngc_1\",\"marker\":{\"color\":\"#636efa\",\"pattern\":{\"shape\":\"\"}},\"name\":\"mbt_ngc_1\",\"offsetgroup\":\"mbt_ngc_1\",\"orientation\":\"v\",\"showlegend\":true,\"textposition\":\"auto\",\"x\":[\"L2 MVO\",\"Inverse Vola\",\"Equal Weight\",\"HierarchicalRiskParity\"],\"xaxis\":\"x\",\"y\":[0.1820454259889046,0.1849437248066871,0.07142857142857142,0.34297542282962973],\"yaxis\":\"y\",\"type\":\"bar\"},{\"alignmentgroup\":\"True\",\"hovertemplate\":\"asset=mbt_ngf_2\\u003cbr\\u003eindex=%{x}\\u003cbr\\u003evalue=%{y}\\u003cextra\\u003e\\u003c\\u002fextra\\u003e\",\"legendgroup\":\"mbt_ngf_2\",\"marker\":{\"color\":\"#EF553B\",\"pattern\":{\"shape\":\"\"}},\"name\":\"mbt_ngf_2\",\"offsetgroup\":\"mbt_ngf_2\",\"orientation\":\"v\",\"showlegend\":true,\"textposition\":\"auto\",\"x\":[\"L2 MVO\",\"Inverse Vola\",\"Equal Weight\",\"HierarchicalRiskParity\"],\"xaxis\":\"x\",\"y\":[0.18204542595730427,0.11536596703774984,0.07142857142857142,0.11259606770559524],\"yaxis\":\"y\",\"type\":\"bar\"},{\"alignmentgroup\":\"True\",\"hovertemplate\":\"asset=mbt_ngf_1\\u003cbr\\u003eindex=%{x}\\u003cbr\\u003evalue=%{y}\\u003cextra\\u003e\\u003c\\u002fextra\\u003e\",\"legendgroup\":\"mbt_ngf_1\",\"marker\":{\"color\":\"#00cc96\",\"pattern\":{\"shape\":\"\"}},\"name\":\"mbt_ngf_1\",\"offsetgroup\":\"mbt_ngf_1\",\"orientation\":\"v\",\"showlegend\":true,\"textposition\":\"auto\",\"x\":[\"L2 MVO\",\"Inverse Vola\",\"Equal Weight\",\"HierarchicalRiskParity\"],\"xaxis\":\"x\",\"y\":[0.18204542594943632,0.1000331356409125,0.07142857142857142,0.10847922677704828],\"yaxis\":\"y\",\"type\":\"bar\"},{\"alignmentgroup\":\"True\",\"hovertemplate\":\"asset=mbt_mema3_1\\u003cbr\\u003eindex=%{x}\\u003cbr\\u003evalue=%{y}\\u003cextra\\u003e\\u003c\\u002fextra\\u003e\",\"legendgroup\":\"mbt_mema3_1\",\"marker\":{\"color\":\"#ab63fa\",\"pattern\":{\"shape\":\"\"}},\"name\":\"mbt_mema3_1\",\"offsetgroup\":\"mbt_mema3_1\",\"orientation\":\"v\",\"showlegend\":true,\"textposition\":\"auto\",\"x\":[\"L2 MVO\",\"Inverse Vola\",\"Equal Weight\",\"HierarchicalRiskParity\"],\"xaxis\":\"x\",\"y\":[0.09269335821972448,0.0940389206187966,0.07142857142857142,0.09607002989717507],\"yaxis\":\"y\",\"type\":\"bar\"},{\"alignmentgroup\":\"True\",\"hovertemplate\":\"asset=mbt_ma_dvg_so\\u003cbr\\u003eindex=%{x}\\u003cbr\\u003evalue=%{y}\\u003cextra\\u003e\\u003c\\u002fextra\\u003e\",\"legendgroup\":\"mbt_ma_dvg_so\",\"marker\":{\"color\":\"#FFA15A\",\"pattern\":{\"shape\":\"\"}},\"name\":\"mbt_ma_dvg_so\",\"offsetgroup\":\"mbt_ma_dvg_so\",\"orientation\":\"v\",\"showlegend\":true,\"textposition\":\"auto\",\"x\":[\"L2 MVO\",\"Inverse Vola\",\"Equal Weight\",\"HierarchicalRiskParity\"],\"xaxis\":\"x\",\"y\":[0.09269335813336489,0.0935016027904467,0.07142857142857142,0.09870204113850245],\"yaxis\":\"y\",\"type\":\"bar\"},{\"alignmentgroup\":\"True\",\"hovertemplate\":\"asset=ec_gcz\\u003cbr\\u003eindex=%{x}\\u003cbr\\u003evalue=%{y}\\u003cextra\\u003e\\u003c\\u002fextra\\u003e\",\"legendgroup\":\"ec_gcz\",\"marker\":{\"color\":\"#19d3f3\",\"pattern\":{\"shape\":\"\"}},\"name\":\"ec_gcz\",\"offsetgroup\":\"ec_gcz\",\"orientation\":\"v\",\"showlegend\":true,\"textposition\":\"auto\",\"x\":[\"L2 MVO\",\"Inverse Vola\",\"Equal Weight\",\"HierarchicalRiskParity\"],\"xaxis\":\"x\",\"y\":[0.05974339675719524,0.08272244655029926,0.07142857142857142,0.05789146535414192],\"yaxis\":\"y\",\"type\":\"bar\"},{\"alignmentgroup\":\"True\",\"hovertemplate\":\"asset=zs_ngf_1\\u003cbr\\u003eindex=%{x}\\u003cbr\\u003evalue=%{y}\\u003cextra\\u003e\\u003c\\u002fextra\\u003e\",\"legendgroup\":\"zs_ngf_1\",\"marker\":{\"color\":\"#FF6692\",\"pattern\":{\"shape\":\"\"}},\"name\":\"zs_ngf_1\",\"offsetgroup\":\"zs_ngf_1\",\"orientation\":\"v\",\"showlegend\":true,\"textposition\":\"auto\",\"x\":[\"L2 MVO\",\"Inverse Vola\",\"Equal Weight\",\"HierarchicalRiskParity\"],\"xaxis\":\"x\",\"y\":[0.05950300332564053,0.03698679928711254,0.07142857142857142,0.013694995165385184],\"yaxis\":\"y\",\"type\":\"bar\"},{\"alignmentgroup\":\"True\",\"hovertemplate\":\"asset=ec_ngc\\u003cbr\\u003eindex=%{x}\\u003cbr\\u003evalue=%{y}\\u003cextra\\u003e\\u003c\\u002fextra\\u003e\",\"legendgroup\":\"ec_ngc\",\"marker\":{\"color\":\"#B6E880\",\"pattern\":{\"shape\":\"\"}},\"name\":\"ec_ngc\",\"offsetgroup\":\"ec_ngc\",\"orientation\":\"v\",\"showlegend\":true,\"textposition\":\"auto\",\"x\":[\"L2 MVO\",\"Inverse Vola\",\"Equal Weight\",\"HierarchicalRiskParity\"],\"xaxis\":\"x\",\"y\":[0.05670109194735825,0.08231245576276272,0.07142857142857142,0.08781334269674469],\"yaxis\":\"y\",\"type\":\"bar\"},{\"alignmentgroup\":\"True\",\"hovertemplate\":\"asset=zs_ngc_1\\u003cbr\\u003eindex=%{x}\\u003cbr\\u003evalue=%{y}\\u003cextra\\u003e\\u003c\\u002fextra\\u003e\",\"legendgroup\":\"zs_ngc_1\",\"marker\":{\"color\":\"#FF97FF\",\"pattern\":{\"shape\":\"\"}},\"name\":\"zs_ngc_1\",\"offsetgroup\":\"zs_ngc_1\",\"orientation\":\"v\",\"showlegend\":true,\"textposition\":\"auto\",\"x\":[\"L2 MVO\",\"Inverse Vola\",\"Equal Weight\",\"HierarchicalRiskParity\"],\"xaxis\":\"x\",\"y\":[0.043552835899728984,0.028594617897534202,0.07142857142857142,0.010597367289075744],\"yaxis\":\"y\",\"type\":\"bar\"},{\"alignmentgroup\":\"True\",\"hovertemplate\":\"asset=ec_ngf\\u003cbr\\u003eindex=%{x}\\u003cbr\\u003evalue=%{y}\\u003cextra\\u003e\\u003c\\u002fextra\\u003e\",\"legendgroup\":\"ec_ngf\",\"marker\":{\"color\":\"#FECB52\",\"pattern\":{\"shape\":\"\"}},\"name\":\"ec_ngf\",\"offsetgroup\":\"ec_ngf\",\"orientation\":\"v\",\"showlegend\":true,\"textposition\":\"auto\",\"x\":[\"L2 MVO\",\"Inverse Vola\",\"Equal Weight\",\"HierarchicalRiskParity\"],\"xaxis\":\"x\",\"y\":[0.028812828853014127,0.05428877454151554,0.07142857142857142,0.029504513575230727],\"yaxis\":\"y\",\"type\":\"bar\"},{\"alignmentgroup\":\"True\",\"hovertemplate\":\"asset=ng_ngf_2\\u003cbr\\u003eindex=%{x}\\u003cbr\\u003evalue=%{y}\\u003cextra\\u003e\\u003c\\u002fextra\\u003e\",\"legendgroup\":\"ng_ngf_2\",\"marker\":{\"color\":\"#636efa\",\"pattern\":{\"shape\":\"\"}},\"name\":\"ng_ngf_2\",\"offsetgroup\":\"ng_ngf_2\",\"orientation\":\"v\",\"showlegend\":true,\"textposition\":\"auto\",\"x\":[\"L2 MVO\",\"Inverse Vola\",\"Equal Weight\",\"HierarchicalRiskParity\"],\"xaxis\":\"x\",\"y\":[0.02016384879328829,0.04874934486594504,0.07142857142857142,0.023829853212530956],\"yaxis\":\"y\",\"type\":\"bar\"},{\"alignmentgroup\":\"True\",\"hovertemplate\":\"asset=ng_ngf\\u003cbr\\u003eindex=%{x}\\u003cbr\\u003evalue=%{y}\\u003cextra\\u003e\\u003c\\u002fextra\\u003e\",\"legendgroup\":\"ng_ngf\",\"marker\":{\"color\":\"#EF553B\",\"pattern\":{\"shape\":\"\"}},\"name\":\"ng_ngf\",\"offsetgroup\":\"ng_ngf\",\"orientation\":\"v\",\"showlegend\":true,\"textposition\":\"auto\",\"x\":[\"L2 MVO\",\"Inverse Vola\",\"Equal Weight\",\"HierarchicalRiskParity\"],\"xaxis\":\"x\",\"y\":[0.0,0.032459488910787614,0.07142857142857142,0.007982657219855733],\"yaxis\":\"y\",\"type\":\"bar\"},{\"alignmentgroup\":\"True\",\"hovertemplate\":\"asset=ng_gapcont2020\\u003cbr\\u003eindex=%{x}\\u003cbr\\u003evalue=%{y}\\u003cextra\\u003e\\u003c\\u002fextra\\u003e\",\"legendgroup\":\"ng_gapcont2020\",\"marker\":{\"color\":\"#00cc96\",\"pattern\":{\"shape\":\"\"}},\"name\":\"ng_gapcont2020\",\"offsetgroup\":\"ng_gapcont2020\",\"orientation\":\"v\",\"showlegend\":true,\"textposition\":\"auto\",\"x\":[\"L2 MVO\",\"Inverse Vola\",\"Equal Weight\",\"HierarchicalRiskParity\"],\"xaxis\":\"x\",\"y\":[0.0,0.0237577566014803,0.07142857142857142,0.004276367136471468],\"yaxis\":\"y\",\"type\":\"bar\"},{\"alignmentgroup\":\"True\",\"hovertemplate\":\"asset=cl_gapcont2020\\u003cbr\\u003eindex=%{x}\\u003cbr\\u003evalue=%{y}\\u003cextra\\u003e\\u003c\\u002fextra\\u003e\",\"legendgroup\":\"cl_gapcont2020\",\"marker\":{\"color\":\"#ab63fa\",\"pattern\":{\"shape\":\"\"}},\"name\":\"cl_gapcont2020\",\"offsetgroup\":\"cl_gapcont2020\",\"orientation\":\"v\",\"showlegend\":true,\"textposition\":\"auto\",\"x\":[\"L2 MVO\",\"Inverse Vola\",\"Equal Weight\",\"HierarchicalRiskParity\"],\"xaxis\":\"x\",\"y\":[0.0,0.022244964687969982,0.07142857142857142,0.005586650002612856],\"yaxis\":\"y\",\"type\":\"bar\"}],                        {\"template\":{\"data\":{\"histogram2dcontour\":[{\"type\":\"histogram2dcontour\",\"colorbar\":{\"outlinewidth\":0,\"ticks\":\"\"},\"colorscale\":[[0.0,\"#0d0887\"],[0.1111111111111111,\"#46039f\"],[0.2222222222222222,\"#7201a8\"],[0.3333333333333333,\"#9c179e\"],[0.4444444444444444,\"#bd3786\"],[0.5555555555555556,\"#d8576b\"],[0.6666666666666666,\"#ed7953\"],[0.7777777777777778,\"#fb9f3a\"],[0.8888888888888888,\"#fdca26\"],[1.0,\"#f0f921\"]]}],\"choropleth\":[{\"type\":\"choropleth\",\"colorbar\":{\"outlinewidth\":0,\"ticks\":\"\"}}],\"histogram2d\":[{\"type\":\"histogram2d\",\"colorbar\":{\"outlinewidth\":0,\"ticks\":\"\"},\"colorscale\":[[0.0,\"#0d0887\"],[0.1111111111111111,\"#46039f\"],[0.2222222222222222,\"#7201a8\"],[0.3333333333333333,\"#9c179e\"],[0.4444444444444444,\"#bd3786\"],[0.5555555555555556,\"#d8576b\"],[0.6666666666666666,\"#ed7953\"],[0.7777777777777778,\"#fb9f3a\"],[0.8888888888888888,\"#fdca26\"],[1.0,\"#f0f921\"]]}],\"heatmap\":[{\"type\":\"heatmap\",\"colorbar\":{\"outlinewidth\":0,\"ticks\":\"\"},\"colorscale\":[[0.0,\"#0d0887\"],[0.1111111111111111,\"#46039f\"],[0.2222222222222222,\"#7201a8\"],[0.3333333333333333,\"#9c179e\"],[0.4444444444444444,\"#bd3786\"],[0.5555555555555556,\"#d8576b\"],[0.6666666666666666,\"#ed7953\"],[0.7777777777777778,\"#fb9f3a\"],[0.8888888888888888,\"#fdca26\"],[1.0,\"#f0f921\"]]}],\"heatmapgl\":[{\"type\":\"heatmapgl\",\"colorbar\":{\"outlinewidth\":0,\"ticks\":\"\"},\"colorscale\":[[0.0,\"#0d0887\"],[0.1111111111111111,\"#46039f\"],[0.2222222222222222,\"#7201a8\"],[0.3333333333333333,\"#9c179e\"],[0.4444444444444444,\"#bd3786\"],[0.5555555555555556,\"#d8576b\"],[0.6666666666666666,\"#ed7953\"],[0.7777777777777778,\"#fb9f3a\"],[0.8888888888888888,\"#fdca26\"],[1.0,\"#f0f921\"]]}],\"contourcarpet\":[{\"type\":\"contourcarpet\",\"colorbar\":{\"outlinewidth\":0,\"ticks\":\"\"}}],\"contour\":[{\"type\":\"contour\",\"colorbar\":{\"outlinewidth\":0,\"ticks\":\"\"},\"colorscale\":[[0.0,\"#0d0887\"],[0.1111111111111111,\"#46039f\"],[0.2222222222222222,\"#7201a8\"],[0.3333333333333333,\"#9c179e\"],[0.4444444444444444,\"#bd3786\"],[0.5555555555555556,\"#d8576b\"],[0.6666666666666666,\"#ed7953\"],[0.7777777777777778,\"#fb9f3a\"],[0.8888888888888888,\"#fdca26\"],[1.0,\"#f0f921\"]]}],\"surface\":[{\"type\":\"surface\",\"colorbar\":{\"outlinewidth\":0,\"ticks\":\"\"},\"colorscale\":[[0.0,\"#0d0887\"],[0.1111111111111111,\"#46039f\"],[0.2222222222222222,\"#7201a8\"],[0.3333333333333333,\"#9c179e\"],[0.4444444444444444,\"#bd3786\"],[0.5555555555555556,\"#d8576b\"],[0.6666666666666666,\"#ed7953\"],[0.7777777777777778,\"#fb9f3a\"],[0.8888888888888888,\"#fdca26\"],[1.0,\"#f0f921\"]]}],\"mesh3d\":[{\"type\":\"mesh3d\",\"colorbar\":{\"outlinewidth\":0,\"ticks\":\"\"}}],\"scatter\":[{\"fillpattern\":{\"fillmode\":\"overlay\",\"size\":10,\"solidity\":0.2},\"type\":\"scatter\"}],\"parcoords\":[{\"type\":\"parcoords\",\"line\":{\"colorbar\":{\"outlinewidth\":0,\"ticks\":\"\"}}}],\"scatterpolargl\":[{\"type\":\"scatterpolargl\",\"marker\":{\"colorbar\":{\"outlinewidth\":0,\"ticks\":\"\"}}}],\"bar\":[{\"error_x\":{\"color\":\"#2a3f5f\"},\"error_y\":{\"color\":\"#2a3f5f\"},\"marker\":{\"line\":{\"color\":\"#E5ECF6\",\"width\":0.5},\"pattern\":{\"fillmode\":\"overlay\",\"size\":10,\"solidity\":0.2}},\"type\":\"bar\"}],\"scattergeo\":[{\"type\":\"scattergeo\",\"marker\":{\"colorbar\":{\"outlinewidth\":0,\"ticks\":\"\"}}}],\"scatterpolar\":[{\"type\":\"scatterpolar\",\"marker\":{\"colorbar\":{\"outlinewidth\":0,\"ticks\":\"\"}}}],\"histogram\":[{\"marker\":{\"pattern\":{\"fillmode\":\"overlay\",\"size\":10,\"solidity\":0.2}},\"type\":\"histogram\"}],\"scattergl\":[{\"type\":\"scattergl\",\"marker\":{\"colorbar\":{\"outlinewidth\":0,\"ticks\":\"\"}}}],\"scatter3d\":[{\"type\":\"scatter3d\",\"line\":{\"colorbar\":{\"outlinewidth\":0,\"ticks\":\"\"}},\"marker\":{\"colorbar\":{\"outlinewidth\":0,\"ticks\":\"\"}}}],\"scattermapbox\":[{\"type\":\"scattermapbox\",\"marker\":{\"colorbar\":{\"outlinewidth\":0,\"ticks\":\"\"}}}],\"scatterternary\":[{\"type\":\"scatterternary\",\"marker\":{\"colorbar\":{\"outlinewidth\":0,\"ticks\":\"\"}}}],\"scattercarpet\":[{\"type\":\"scattercarpet\",\"marker\":{\"colorbar\":{\"outlinewidth\":0,\"ticks\":\"\"}}}],\"carpet\":[{\"aaxis\":{\"endlinecolor\":\"#2a3f5f\",\"gridcolor\":\"white\",\"linecolor\":\"white\",\"minorgridcolor\":\"white\",\"startlinecolor\":\"#2a3f5f\"},\"baxis\":{\"endlinecolor\":\"#2a3f5f\",\"gridcolor\":\"white\",\"linecolor\":\"white\",\"minorgridcolor\":\"white\",\"startlinecolor\":\"#2a3f5f\"},\"type\":\"carpet\"}],\"table\":[{\"cells\":{\"fill\":{\"color\":\"#EBF0F8\"},\"line\":{\"color\":\"white\"}},\"header\":{\"fill\":{\"color\":\"#C8D4E3\"},\"line\":{\"color\":\"white\"}},\"type\":\"table\"}],\"barpolar\":[{\"marker\":{\"line\":{\"color\":\"#E5ECF6\",\"width\":0.5},\"pattern\":{\"fillmode\":\"overlay\",\"size\":10,\"solidity\":0.2}},\"type\":\"barpolar\"}],\"pie\":[{\"automargin\":true,\"type\":\"pie\"}]},\"layout\":{\"autotypenumbers\":\"strict\",\"colorway\":[\"#636efa\",\"#EF553B\",\"#00cc96\",\"#ab63fa\",\"#FFA15A\",\"#19d3f3\",\"#FF6692\",\"#B6E880\",\"#FF97FF\",\"#FECB52\"],\"font\":{\"color\":\"#2a3f5f\"},\"hovermode\":\"closest\",\"hoverlabel\":{\"align\":\"left\"},\"paper_bgcolor\":\"white\",\"plot_bgcolor\":\"#E5ECF6\",\"polar\":{\"bgcolor\":\"#E5ECF6\",\"angularaxis\":{\"gridcolor\":\"white\",\"linecolor\":\"white\",\"ticks\":\"\"},\"radialaxis\":{\"gridcolor\":\"white\",\"linecolor\":\"white\",\"ticks\":\"\"}},\"ternary\":{\"bgcolor\":\"#E5ECF6\",\"aaxis\":{\"gridcolor\":\"white\",\"linecolor\":\"white\",\"ticks\":\"\"},\"baxis\":{\"gridcolor\":\"white\",\"linecolor\":\"white\",\"ticks\":\"\"},\"caxis\":{\"gridcolor\":\"white\",\"linecolor\":\"white\",\"ticks\":\"\"}},\"coloraxis\":{\"colorbar\":{\"outlinewidth\":0,\"ticks\":\"\"}},\"colorscale\":{\"sequential\":[[0.0,\"#0d0887\"],[0.1111111111111111,\"#46039f\"],[0.2222222222222222,\"#7201a8\"],[0.3333333333333333,\"#9c179e\"],[0.4444444444444444,\"#bd3786\"],[0.5555555555555556,\"#d8576b\"],[0.6666666666666666,\"#ed7953\"],[0.7777777777777778,\"#fb9f3a\"],[0.8888888888888888,\"#fdca26\"],[1.0,\"#f0f921\"]],\"sequentialminus\":[[0.0,\"#0d0887\"],[0.1111111111111111,\"#46039f\"],[0.2222222222222222,\"#7201a8\"],[0.3333333333333333,\"#9c179e\"],[0.4444444444444444,\"#bd3786\"],[0.5555555555555556,\"#d8576b\"],[0.6666666666666666,\"#ed7953\"],[0.7777777777777778,\"#fb9f3a\"],[0.8888888888888888,\"#fdca26\"],[1.0,\"#f0f921\"]],\"diverging\":[[0,\"#8e0152\"],[0.1,\"#c51b7d\"],[0.2,\"#de77ae\"],[0.3,\"#f1b6da\"],[0.4,\"#fde0ef\"],[0.5,\"#f7f7f7\"],[0.6,\"#e6f5d0\"],[0.7,\"#b8e186\"],[0.8,\"#7fbc41\"],[0.9,\"#4d9221\"],[1,\"#276419\"]]},\"xaxis\":{\"gridcolor\":\"white\",\"linecolor\":\"white\",\"ticks\":\"\",\"title\":{\"standoff\":15},\"zerolinecolor\":\"white\",\"automargin\":true,\"zerolinewidth\":2},\"yaxis\":{\"gridcolor\":\"white\",\"linecolor\":\"white\",\"ticks\":\"\",\"title\":{\"standoff\":15},\"zerolinecolor\":\"white\",\"automargin\":true,\"zerolinewidth\":2},\"scene\":{\"xaxis\":{\"backgroundcolor\":\"#E5ECF6\",\"gridcolor\":\"white\",\"linecolor\":\"white\",\"showbackground\":true,\"ticks\":\"\",\"zerolinecolor\":\"white\",\"gridwidth\":2},\"yaxis\":{\"backgroundcolor\":\"#E5ECF6\",\"gridcolor\":\"white\",\"linecolor\":\"white\",\"showbackground\":true,\"ticks\":\"\",\"zerolinecolor\":\"white\",\"gridwidth\":2},\"zaxis\":{\"backgroundcolor\":\"#E5ECF6\",\"gridcolor\":\"white\",\"linecolor\":\"white\",\"showbackground\":true,\"ticks\":\"\",\"zerolinecolor\":\"white\",\"gridwidth\":2}},\"shapedefaults\":{\"line\":{\"color\":\"#2a3f5f\"}},\"annotationdefaults\":{\"arrowcolor\":\"#2a3f5f\",\"arrowhead\":0,\"arrowwidth\":1},\"geo\":{\"bgcolor\":\"white\",\"landcolor\":\"#E5ECF6\",\"subunitcolor\":\"white\",\"showland\":true,\"showlakes\":true,\"lakecolor\":\"white\"},\"title\":{\"x\":0.05},\"mapbox\":{\"style\":\"light\"}}},\"xaxis\":{\"anchor\":\"y\",\"domain\":[0.0,1.0],\"title\":{\"text\":\"Portfolios\"}},\"yaxis\":{\"anchor\":\"x\",\"domain\":[0.0,1.0],\"title\":{\"text\":\"Weight\"},\"tickformat\":\",.0%\"},\"legend\":{\"title\":{\"text\":\"asset\"},\"tracegroupgap\":0,\"yanchor\":\"top\",\"y\":0.99,\"xanchor\":\"left\",\"x\":1.15},\"margin\":{\"t\":60},\"barmode\":\"relative\",\"title\":{\"text\":\"Portfolios Composition\"}},                        {\"responsive\": true}                    ).then(function(){\n",
       "                            \n",
       "var gd = document.getElementById('494559ce-f37c-4787-96e0-51b331a710aa');\n",
       "var x = new MutationObserver(function (mutations, observer) {{\n",
       "        var display = window.getComputedStyle(gd).display;\n",
       "        if (!display || display === 'none') {{\n",
       "            console.log([gd, 'removed!']);\n",
       "            Plotly.purge(gd);\n",
       "            observer.disconnect();\n",
       "        }}\n",
       "}});\n",
       "\n",
       "// Listen for the removal of the full notebook cells\n",
       "var notebookContainer = gd.closest('#notebook-container');\n",
       "if (notebookContainer) {{\n",
       "    x.observe(notebookContainer, {childList: true});\n",
       "}}\n",
       "\n",
       "// Listen for the clearing of the current output cell\n",
       "var outputEl = gd.closest('.output');\n",
       "if (outputEl) {{\n",
       "    x.observe(outputEl, {childList: true});\n",
       "}}\n",
       "\n",
       "                        })                };                });            </script>        </div>"
      ]
     },
     "metadata": {},
     "output_type": "display_data"
    }
   ],
   "execution_count": 213
  },
  {
   "metadata": {
    "ExecuteTime": {
     "end_time": "2024-09-17T02:36:21.512074Z",
     "start_time": "2024-09-17T02:36:21.506595Z"
    }
   },
   "cell_type": "code",
   "source": [
    "contracts_total = 1000\n",
    "population[0].composition * contracts_total "
   ],
   "id": "a0532bc86eaa2bb2",
   "outputs": [
    {
     "data": {
      "text/plain": [
       "                   L2 MVO\n",
       "asset                    \n",
       "mbt_ngc_1      182.045426\n",
       "mbt_ngf_2      182.045426\n",
       "mbt_ngf_1      182.045426\n",
       "mbt_mema3_1     92.693358\n",
       "mbt_ma_dvg_so   92.693358\n",
       "ec_gcz          59.743397\n",
       "zs_ngf_1        59.503003\n",
       "ec_ngc          56.701092\n",
       "zs_ngc_1        43.552836\n",
       "ec_ngf          28.812829\n",
       "ng_ngf_2        20.163849"
      ],
      "text/html": [
       "<div>\n",
       "<style scoped>\n",
       "    .dataframe tbody tr th:only-of-type {\n",
       "        vertical-align: middle;\n",
       "    }\n",
       "\n",
       "    .dataframe tbody tr th {\n",
       "        vertical-align: top;\n",
       "    }\n",
       "\n",
       "    .dataframe thead th {\n",
       "        text-align: right;\n",
       "    }\n",
       "</style>\n",
       "<table border=\"1\" class=\"dataframe\">\n",
       "  <thead>\n",
       "    <tr style=\"text-align: right;\">\n",
       "      <th></th>\n",
       "      <th>L2 MVO</th>\n",
       "    </tr>\n",
       "    <tr>\n",
       "      <th>asset</th>\n",
       "      <th></th>\n",
       "    </tr>\n",
       "  </thead>\n",
       "  <tbody>\n",
       "    <tr>\n",
       "      <th>mbt_ngc_1</th>\n",
       "      <td>182.045426</td>\n",
       "    </tr>\n",
       "    <tr>\n",
       "      <th>mbt_ngf_2</th>\n",
       "      <td>182.045426</td>\n",
       "    </tr>\n",
       "    <tr>\n",
       "      <th>mbt_ngf_1</th>\n",
       "      <td>182.045426</td>\n",
       "    </tr>\n",
       "    <tr>\n",
       "      <th>mbt_mema3_1</th>\n",
       "      <td>92.693358</td>\n",
       "    </tr>\n",
       "    <tr>\n",
       "      <th>mbt_ma_dvg_so</th>\n",
       "      <td>92.693358</td>\n",
       "    </tr>\n",
       "    <tr>\n",
       "      <th>ec_gcz</th>\n",
       "      <td>59.743397</td>\n",
       "    </tr>\n",
       "    <tr>\n",
       "      <th>zs_ngf_1</th>\n",
       "      <td>59.503003</td>\n",
       "    </tr>\n",
       "    <tr>\n",
       "      <th>ec_ngc</th>\n",
       "      <td>56.701092</td>\n",
       "    </tr>\n",
       "    <tr>\n",
       "      <th>zs_ngc_1</th>\n",
       "      <td>43.552836</td>\n",
       "    </tr>\n",
       "    <tr>\n",
       "      <th>ec_ngf</th>\n",
       "      <td>28.812829</td>\n",
       "    </tr>\n",
       "    <tr>\n",
       "      <th>ng_ngf_2</th>\n",
       "      <td>20.163849</td>\n",
       "    </tr>\n",
       "  </tbody>\n",
       "</table>\n",
       "</div>"
      ]
     },
     "execution_count": 214,
     "metadata": {},
     "output_type": "execute_result"
    }
   ],
   "execution_count": 214
  },
  {
   "metadata": {
    "ExecuteTime": {
     "end_time": "2024-09-17T02:36:24.657489Z",
     "start_time": "2024-09-17T02:36:24.649335Z"
    }
   },
   "cell_type": "code",
   "source": "population[1].composition # Inverse Vola almost fits to product basis, on its own (naturally)",
   "id": "26231a669856959c",
   "outputs": [
    {
     "data": {
      "text/plain": [
       "                Inverse Vola\n",
       "asset                       \n",
       "mbt_ngc_1           0.184944\n",
       "mbt_ngf_2           0.115366\n",
       "mbt_ngf_1           0.100033\n",
       "mbt_mema3_1         0.094039\n",
       "mbt_ma_dvg_so       0.093502\n",
       "ec_gcz              0.082722\n",
       "ec_ngc              0.082312\n",
       "ec_ngf              0.054289\n",
       "ng_ngf_2            0.048749\n",
       "zs_ngf_1            0.036987\n",
       "ng_ngf              0.032459\n",
       "zs_ngc_1            0.028595\n",
       "ng_gapcont2020      0.023758\n",
       "cl_gapcont2020      0.022245"
      ],
      "text/html": [
       "<div>\n",
       "<style scoped>\n",
       "    .dataframe tbody tr th:only-of-type {\n",
       "        vertical-align: middle;\n",
       "    }\n",
       "\n",
       "    .dataframe tbody tr th {\n",
       "        vertical-align: top;\n",
       "    }\n",
       "\n",
       "    .dataframe thead th {\n",
       "        text-align: right;\n",
       "    }\n",
       "</style>\n",
       "<table border=\"1\" class=\"dataframe\">\n",
       "  <thead>\n",
       "    <tr style=\"text-align: right;\">\n",
       "      <th></th>\n",
       "      <th>Inverse Vola</th>\n",
       "    </tr>\n",
       "    <tr>\n",
       "      <th>asset</th>\n",
       "      <th></th>\n",
       "    </tr>\n",
       "  </thead>\n",
       "  <tbody>\n",
       "    <tr>\n",
       "      <th>mbt_ngc_1</th>\n",
       "      <td>0.184944</td>\n",
       "    </tr>\n",
       "    <tr>\n",
       "      <th>mbt_ngf_2</th>\n",
       "      <td>0.115366</td>\n",
       "    </tr>\n",
       "    <tr>\n",
       "      <th>mbt_ngf_1</th>\n",
       "      <td>0.100033</td>\n",
       "    </tr>\n",
       "    <tr>\n",
       "      <th>mbt_mema3_1</th>\n",
       "      <td>0.094039</td>\n",
       "    </tr>\n",
       "    <tr>\n",
       "      <th>mbt_ma_dvg_so</th>\n",
       "      <td>0.093502</td>\n",
       "    </tr>\n",
       "    <tr>\n",
       "      <th>ec_gcz</th>\n",
       "      <td>0.082722</td>\n",
       "    </tr>\n",
       "    <tr>\n",
       "      <th>ec_ngc</th>\n",
       "      <td>0.082312</td>\n",
       "    </tr>\n",
       "    <tr>\n",
       "      <th>ec_ngf</th>\n",
       "      <td>0.054289</td>\n",
       "    </tr>\n",
       "    <tr>\n",
       "      <th>ng_ngf_2</th>\n",
       "      <td>0.048749</td>\n",
       "    </tr>\n",
       "    <tr>\n",
       "      <th>zs_ngf_1</th>\n",
       "      <td>0.036987</td>\n",
       "    </tr>\n",
       "    <tr>\n",
       "      <th>ng_ngf</th>\n",
       "      <td>0.032459</td>\n",
       "    </tr>\n",
       "    <tr>\n",
       "      <th>zs_ngc_1</th>\n",
       "      <td>0.028595</td>\n",
       "    </tr>\n",
       "    <tr>\n",
       "      <th>ng_gapcont2020</th>\n",
       "      <td>0.023758</td>\n",
       "    </tr>\n",
       "    <tr>\n",
       "      <th>cl_gapcont2020</th>\n",
       "      <td>0.022245</td>\n",
       "    </tr>\n",
       "  </tbody>\n",
       "</table>\n",
       "</div>"
      ]
     },
     "execution_count": 215,
     "metadata": {},
     "output_type": "execute_result"
    }
   ],
   "execution_count": 215
  },
  {
   "metadata": {
    "ExecuteTime": {
     "end_time": "2024-09-17T02:11:25.802536Z",
     "start_time": "2024-09-17T02:11:25.798313Z"
    }
   },
   "cell_type": "code",
   "source": [
    "def generate_constraints_for_equal_weights(groups):\n",
    "    constraints = []\n",
    "    product_strategies = {}\n",
    "    \n",
    "    for strategy in groups:\n",
    "        # Extract the base product name (e.g., \"cl\" from \"cl1\")\n",
    "        product = strategy.rstrip('0123456789')  \n",
    "        if product not in product_strategies:\n",
    "            product_strategies[product] = []\n",
    "        product_strategies[product].append(strategy)\n",
    "\n",
    "    # Generate constraints for strict equal weights for each product group\n",
    "    for strategies in product_strategies.values():\n",
    "        if len(strategies) > 1:\n",
    "            # Use the first strategy in the list as the reference\n",
    "            reference = strategies[0]\n",
    "            # Generate constraints to make all other strategies equal to the reference\n",
    "            for i in range(1, len(strategies)):\n",
    "                constraints.append(f\"{reference} - {strategies[i]} == 0\")\n",
    "                constraints.append(f'{reference} = {strategies[i]}')\n",
    "    \n",
    "    return constraints\n",
    "\n",
    "# This looks right, exhaustive -- but it does not work? strangely. nothing does...\n",
    "ewc = generate_constraints_for_equal_weights(groups)\n",
    "ewc"
   ],
   "id": "badb850318de5dc7",
   "outputs": [
    {
     "data": {
      "text/plain": [
       "['ec1 - ec2 == 0',\n",
       " 'ec1 = ec2',\n",
       " 'ec1 - ec3 == 0',\n",
       " 'ec1 = ec3',\n",
       " 'mbt1 - mbt2 == 0',\n",
       " 'mbt1 = mbt2',\n",
       " 'mbt1 - mbt3 == 0',\n",
       " 'mbt1 = mbt3',\n",
       " 'mbt1 - mbt4 == 0',\n",
       " 'mbt1 = mbt4',\n",
       " 'mbt1 - mbt5 == 0',\n",
       " 'mbt1 = mbt5',\n",
       " 'ng1 - ng2 == 0',\n",
       " 'ng1 = ng2',\n",
       " 'ng1 - ng3 == 0',\n",
       " 'ng1 = ng3',\n",
       " 'zs1 - zs2 == 0',\n",
       " 'zs1 = zs2']"
      ]
     },
     "execution_count": 144,
     "metadata": {},
     "output_type": "execute_result"
    }
   ],
   "execution_count": 144
  },
  {
   "metadata": {},
   "cell_type": "markdown",
   "source": "# Regime Sketch...",
   "id": "dc83650e55760613"
  },
  {
   "metadata": {
    "ExecuteTime": {
     "end_time": "2024-09-17T02:16:13.689868Z",
     "start_time": "2024-09-17T02:16:13.298879Z"
    }
   },
   "cell_type": "code",
   "source": [
    "import numpy as np\n",
    "import pandas as pd\n",
    "from hmmlearn.hmm import GaussianHMM\n",
    "from sklearn.preprocessing import StandardScaler\n",
    "\n",
    "# Load your DataFrame\n",
    "# Assuming 'rdf' is your DataFrame of signals by date\n",
    "\n",
    "# Step 1: Prepare the Data\n",
    "# Replace NaN with 0 (or another suitable value based on your domain knowledge)\n",
    "rdf.fillna(0, inplace=True)\n",
    "\n",
    "# Convert DataFrame to numpy array for HMM input\n",
    "X = rdf.values\n",
    "\n",
    "# Step 2: Normalize or Standardize the Data\n",
    "scaler = StandardScaler()\n",
    "X_scaled = scaler.fit_transform(X)\n",
    "\n",
    "# Step 3: Fit the HMM\n",
    "# Initialize HMM with 2 states (for \"on\" and \"off\")\n",
    "model = GaussianHMM(n_components=2, covariance_type=\"full\", n_iter=100)\n",
    "\n",
    "# Fit the model to the data\n",
    "model.fit(X_scaled)\n",
    "\n",
    "# Step 4: Predict the hidden states\n",
    "hidden_states = model.predict(X_scaled)\n",
    "\n",
    "# Add the predicted states to the original DataFrame\n",
    "rdf['Hidden_State'] = hidden_states\n",
    "\n",
    "# Display the DataFrame with hidden states\n",
    "print(rdf.head())\n"
   ],
   "id": "6dfc69ce73108206",
   "outputs": [
    {
     "name": "stderr",
     "output_type": "stream",
     "text": [
      "Model is not converging.  Current: -959.3618951936475 is not greater than -550.726743316741. Delta is -408.63515187690643\n"
     ]
    },
    {
     "name": "stdout",
     "output_type": "stream",
     "text": [
      "            cl_gapcont2020  ec_gcz  ec_ngc  ec_ngf  mbt_ma_dvg_so  \\\n",
      "date                                                                \n",
      "2024-04-01             0.0     0.0     0.0   18.75          127.5   \n",
      "2024-04-02            20.0     0.0     0.0    0.00          -80.0   \n",
      "2024-04-03             0.0     0.0   -12.5    0.00          -29.0   \n",
      "2024-04-04          -800.0     0.0     0.0  400.00           -1.0   \n",
      "2024-04-05             0.0     0.0     0.0  400.00         -139.5   \n",
      "\n",
      "            mbt_mema3_1  mbt_ngc_1  mbt_ngf_1  mbt_ngf_2  ng_gapcont2020  \\\n",
      "date                                                                       \n",
      "2024-04-01          0.0        0.0      -50.0      107.5             0.0   \n",
      "2024-04-02          0.0        0.0        0.0      120.0             0.0   \n",
      "2024-04-03        -39.5       -0.5        3.5        0.0           230.0   \n",
      "2024-04-04         24.5        0.0      -50.0      -49.5           260.0   \n",
      "2024-04-05          2.5        0.0        4.5      116.0          -330.0   \n",
      "\n",
      "            ng_ngf  ng_ngf_2  zs_ngc_1  zs_ngf_1  Hidden_State  \n",
      "date                                                            \n",
      "2024-04-01     0.0       0.0       0.0       0.0             0  \n",
      "2024-04-02     0.0       0.0       0.0    -187.5             0  \n",
      "2024-04-03   340.0       0.0       0.0     287.5             1  \n",
      "2024-04-04     0.0       0.0    -387.5    -187.5             0  \n",
      "2024-04-05     0.0       0.0       0.0     287.5             0  \n"
     ]
    }
   ],
   "execution_count": 152
  },
  {
   "metadata": {
    "ExecuteTime": {
     "end_time": "2024-09-17T02:18:09.486668Z",
     "start_time": "2024-09-17T02:18:09.481074Z"
    }
   },
   "cell_type": "code",
   "source": [
    "regime_0 = rdf[rdf.Hidden_State == 0]\n",
    "regime_1 = rdf[rdf.Hidden_State == 1]\n",
    "\n",
    "r0_sr = (regime_0.mean() / regime_0.std()) * 252 ** .5\n",
    "r1_sr = (regime_1.mean() / regime_1.std()) * 252 ** .5\n",
    "r1_sr / r0_sr"
   ],
   "id": "c0daaa63f805f6d6",
   "outputs": [
    {
     "data": {
      "text/plain": [
       "cl_gapcont2020    13.963264\n",
       "ec_gcz             1.095047\n",
       "ec_ngc             1.787682\n",
       "ec_ngf             1.179883\n",
       "mbt_ma_dvg_so      1.492269\n",
       "mbt_mema3_1        1.091021\n",
       "mbt_ngc_1               NaN\n",
       "mbt_ngf_1         -1.244460\n",
       "mbt_ngf_2         -0.674409\n",
       "ng_gapcont2020     4.139737\n",
       "ng_ngf            -2.804986\n",
       "ng_ngf_2                NaN\n",
       "zs_ngc_1           1.251141\n",
       "zs_ngf_1           0.603327\n",
       "Hidden_State            NaN\n",
       "dtype: float64"
      ]
     },
     "execution_count": 158,
     "metadata": {},
     "output_type": "execute_result"
    }
   ],
   "execution_count": 158
  },
  {
   "metadata": {
    "ExecuteTime": {
     "end_time": "2024-09-17T02:19:22.354915Z",
     "start_time": "2024-09-17T02:19:22.351897Z"
    }
   },
   "cell_type": "code",
   "source": "r0_sr",
   "id": "b0c072e3a7866da0",
   "outputs": [
    {
     "data": {
      "text/plain": [
       "cl_gapcont2020    0.642540\n",
       "ec_gcz            1.456764\n",
       "ec_ngc            2.831405\n",
       "ec_ngf            4.836151\n",
       "mbt_ma_dvg_so     4.629288\n",
       "mbt_mema3_1       2.594877\n",
       "mbt_ngc_1              NaN\n",
       "mbt_ngf_1         5.499579\n",
       "mbt_ngf_2         6.163750\n",
       "ng_gapcont2020    1.746593\n",
       "ng_ngf           -2.121445\n",
       "ng_ngf_2               NaN\n",
       "zs_ngc_1          2.656953\n",
       "zs_ngf_1          4.155349\n",
       "Hidden_State           NaN\n",
       "dtype: float64"
      ]
     },
     "execution_count": 163,
     "metadata": {},
     "output_type": "execute_result"
    }
   ],
   "execution_count": 163
  },
  {
   "metadata": {
    "ExecuteTime": {
     "end_time": "2024-09-17T02:19:35.441912Z",
     "start_time": "2024-09-17T02:19:35.437115Z"
    }
   },
   "cell_type": "code",
   "source": "r1_sr",
   "id": "cbc0283e7412209e",
   "outputs": [
    {
     "data": {
      "text/plain": [
       "cl_gapcont2020    8.971953\n",
       "ec_gcz            1.595226\n",
       "ec_ngc            5.061653\n",
       "ec_ngf            5.706091\n",
       "mbt_ma_dvg_so     6.908142\n",
       "mbt_mema3_1       2.831066\n",
       "mbt_ngc_1         7.229793\n",
       "mbt_ngf_1        -6.844006\n",
       "mbt_ngf_2        -4.156888\n",
       "ng_gapcont2020    7.230438\n",
       "ng_ngf            5.950623\n",
       "ng_ngf_2          4.804168\n",
       "zs_ngc_1          3.324222\n",
       "zs_ngf_1          2.507032\n",
       "Hidden_State           inf\n",
       "dtype: float64"
      ]
     },
     "execution_count": 164,
     "metadata": {},
     "output_type": "execute_result"
    }
   ],
   "execution_count": 164
  },
  {
   "metadata": {
    "ExecuteTime": {
     "end_time": "2024-09-17T02:20:11.253537Z",
     "start_time": "2024-09-17T02:20:11.250059Z"
    }
   },
   "cell_type": "code",
   "source": [
    "base_sr = (rdf.mean() / rdf.std()) * 252 ** .5\n",
    "base_sr"
   ],
   "id": "3729c9d58ccda3",
   "outputs": [
    {
     "data": {
      "text/plain": [
       "cl_gapcont2020     3.458964\n",
       "ec_gcz             1.506740\n",
       "ec_ngc             3.323324\n",
       "ec_ngf             5.036646\n",
       "mbt_ma_dvg_so      5.345650\n",
       "mbt_mema3_1        2.685453\n",
       "mbt_ngc_1          3.869059\n",
       "mbt_ngf_1          2.423847\n",
       "mbt_ngf_2          3.647542\n",
       "ng_gapcont2020     3.901271\n",
       "ng_ngf             2.931246\n",
       "ng_ngf_2           2.666760\n",
       "zs_ngc_1           2.899734\n",
       "zs_ngf_1           3.649013\n",
       "Hidden_State      10.885724\n",
       "dtype: float64"
      ]
     },
     "execution_count": 165,
     "metadata": {},
     "output_type": "execute_result"
    }
   ],
   "execution_count": 165
  },
  {
   "metadata": {
    "ExecuteTime": {
     "end_time": "2024-09-17T02:22:31.083368Z",
     "start_time": "2024-09-17T02:22:31.061810Z"
    }
   },
   "cell_type": "code",
   "source": [
    "import numpy as np\n",
    "import pandas as pd\n",
    "from hmmlearn.hmm import GaussianHMM\n",
    "from sklearn.preprocessing import StandardScaler\n",
    "from sklearn.model_selection import train_test_split\n",
    "\n",
    "# Assuming 'rdf' is your DataFrame of signals by date\n",
    "# Ensure the DataFrame has numeric data only and no missing values\n",
    "rdf.fillna(0, inplace=True)  # Fill missing values if any, modify as needed\n",
    "\n",
    "# Step 1: Prepare the Data\n",
    "X = rdf.values  # Convert DataFrame to numpy array for HMM input\n",
    "\n",
    "# Step 2: Normalize or Standardize the Data\n",
    "scaler = StandardScaler()\n",
    "X_scaled = scaler.fit_transform(X)\n",
    "\n",
    "# Step 3: Split the Data into Training and Test Sets\n",
    "# Use time-based splitting (e.g., 70% for training, 30% for testing)\n",
    "train_size = int(len(X_scaled) * 0.7)\n",
    "X_train = X_scaled[:train_size]\n",
    "X_test = X_scaled[train_size:]\n",
    "\n",
    "# Step 4: Fit the HMM on the Training Set\n",
    "# Initialize HMM with 2 states (for \"on\" and \"off\")\n",
    "model = GaussianHMM(n_components=2, covariance_type=\"full\", n_iter=100, random_state=42)\n",
    "model.fit(X_train)\n",
    "\n",
    "# Step 5: Predict the hidden states on the Test Set\n",
    "hidden_states_test = model.predict(X_test)\n",
    "\n",
    "# Step 6: Evaluate the Test Set Predictions\n",
    "# Add the predicted states to the original DataFrame for the test period\n",
    "rdf_test = rdf.iloc[train_size:].copy()  # Create a copy for test set period\n",
    "rdf_test['Hidden_State'] = hidden_states_test\n",
    "\n",
    "# Step 7: Calculate the average of signals by regime for the Test Set\n",
    "regime_averages_test = rdf_test.groupby('Hidden_State').mean()\n",
    "\n",
    "print(\"Out-of-Sample Average Signals by Regime (Test Set):\")\n",
    "print(regime_averages_test)"
   ],
   "id": "ba46a6bb1695000d",
   "outputs": [
    {
     "name": "stderr",
     "output_type": "stream",
     "text": [
      "Model is not converging.  Current: 88.98463529925762 is not greater than 111.3062470210108. Delta is -22.321611721753186\n"
     ]
    },
    {
     "name": "stdout",
     "output_type": "stream",
     "text": [
      "Out-of-Sample Average Signals by Regime (Test Set):\n",
      "              cl_gapcont2020     ec_gcz     ec_ngc     ec_ngf  mbt_ma_dvg_so  \\\n",
      "Hidden_State                                                                   \n",
      "0                 346.666667  26.041667  61.458333   1.562500      10.583333   \n",
      "1                  15.217391 -14.945652   1.086957  50.271739      36.782609   \n",
      "\n",
      "              mbt_mema3_1  mbt_ngc_1  mbt_ngf_1  mbt_ngf_2  ng_gapcont2020  \\\n",
      "Hidden_State                                                                 \n",
      "0               16.833333     31.875 -33.916667  -8.125000      107.500000   \n",
      "1                4.304348      0.000  79.021739  65.326087       10.434783   \n",
      "\n",
      "                  ng_ngf   ng_ngf_2    zs_ngc_1   zs_ngf_1  \n",
      "Hidden_State                                                \n",
      "0             128.333333  83.333333  180.208333  57.291667  \n",
      "1             -13.043478   0.000000   40.217391  72.282609  \n"
     ]
    }
   ],
   "execution_count": 166
  },
  {
   "metadata": {
    "ExecuteTime": {
     "end_time": "2024-09-17T02:34:17.813734Z",
     "start_time": "2024-09-17T02:34:17.798443Z"
    }
   },
   "cell_type": "code",
   "source": [
    "import numpy as np\n",
    "import pandas as pd\n",
    "from hmmlearn.hmm import GaussianHMM\n",
    "from sklearn.preprocessing import StandardScaler\n",
    "\n",
    "# Assuming 'rdf' is your DataFrame of signals by date\n",
    "rdf.fillna(0, inplace=True)  # Fill missing values if any, modify as needed\n",
    "\n",
    "# Step 1: Prepare the Data\n",
    "X = rdf.values  # Convert DataFrame to numpy array for HMM input\n",
    "\n",
    "# Step 2: Normalize or Standardize the Data\n",
    "scaler = StandardScaler()\n",
    "X_scaled = scaler.fit_transform(X)\n",
    "\n",
    "# Step 3: Split the Data into Training and Test Sets\n",
    "train_size = int(len(X_scaled) * 0.7)\n",
    "X_train = X_scaled[:train_size]\n",
    "X_test = X_scaled[train_size:]\n",
    "\n",
    "# Step 4: Fit the HMM on the Training Set\n",
    "model = GaussianHMM(n_components=2, covariance_type=\"full\", n_iter=100, tol=1e10, random_state=42)\n",
    "model.fit(X_train)\n",
    "hidden_states_train = model.predict(X_train)\n",
    "\n",
    "\n",
    "rdf_train = rdf.iloc[:train_size].copy()\n",
    "rdf_train['Hidden_State'] = hidden_states_train\n",
    "\n",
    "# Calculate the average value of each signal by regime\n",
    "regime_averages_train = rdf_train.groupby('Hidden_State').mean()\n",
    "\n",
    "# Vectorized approach to determine the \"best\" regime for each signal\n",
    "best_regimes = regime_averages_train.idxmax(axis=0).to_dict()\n",
    "\n",
    "print(\"Best Regime for Each Signal based on Training Set:\")\n",
    "print(best_regimes)\n",
    "\n",
    "# Step 6: Predict the hidden states for the Test Set\n",
    "hidden_states_test = model.predict(X_test)\n",
    "\n",
    "# Add the predicted states to the original DataFrame for the test period\n",
    "rdf_test = rdf.iloc[train_size:].copy()  # Create a copy for test set period\n",
    "rdf_test['Hidden_State'] = hidden_states_test\n",
    "\n",
    "# Step 7: Evaluate the performance of each signal in its \"best\" regime on the Test Set\n",
    "performance_by_regime = {}\n",
    "\n",
    "for column in rdf.columns:\n",
    "    if column == 'Hidden_State': continue\n",
    "    # Mask the DataFrame to select only rows in the \"best\" regime for the current signal\n",
    "    best_regime_mask = rdf_test['Hidden_State'] == best_regimes[column]\n",
    "    # Calculate the mean performance of the signal in its \"best\" regime\n",
    "    sliced = rdf_test.loc[best_regime_mask, column]\n",
    "    \n",
    "    mean_performance = (sliced.mean() / sliced.std())\n",
    "    \n",
    "    \n",
    "    baseline_mean = rdf_test[column].mean() / rdf_test[column].std()\n",
    "    performance_by_regime[column] = mean_performance / baseline_mean\n",
    "\n",
    "print(\"\\nTest Set Mean Performance of Each Signal in Its Best Regime / Baseline (ALL) performance\")\n",
    "print(performance_by_regime)"
   ],
   "id": "4c99fd1f61101507",
   "outputs": [
    {
     "name": "stdout",
     "output_type": "stream",
     "text": [
      "Best Regime for Each Signal based on Training Set:\n",
      "{'cl_gapcont2020': 0, 'ec_gcz': 1, 'ec_ngc': 0, 'ec_ngf': 1, 'mbt_ma_dvg_so': 0, 'mbt_mema3_1': 0, 'mbt_ngc_1': 0, 'mbt_ngf_1': 1, 'mbt_ngf_2': 1, 'ng_gapcont2020': 0, 'ng_ngf': 0, 'ng_ngf_2': 0, 'zs_ngc_1': 0, 'zs_ngf_1': 1}\n",
      "\n",
      "Test Set Mean Performance of Each Signal in Its Best Regime / Baseline (ALL) performance\n",
      "{'cl_gapcont2020': 2.092948986532784, 'ec_gcz': 14.886722663425061, 'ec_ngc': 1.9055616055651519, 'ec_ngf': 1.2858064278094812, 'mbt_ma_dvg_so': 0.3123199529535943, 'mbt_mema3_1': 0.40933622681830395, 'mbt_ngc_1': 1.6910323522087174, 'mbt_ngf_1': 1.8988733492547787, 'mbt_ngf_2': 1.416707407993053, 'ng_gapcont2020': 2.3125457368981994, 'ng_ngf': 2.189484606080892, 'ng_ngf_2': 1.640825308284734, 'zs_ngc_1': 1.910889129656046, 'zs_ngf_1': 0.9115568514791065}\n"
     ]
    }
   ],
   "execution_count": 199
  },
  {
   "metadata": {
    "ExecuteTime": {
     "end_time": "2024-09-17T02:34:37.667600Z",
     "start_time": "2024-09-17T02:34:37.661674Z"
    }
   },
   "cell_type": "code",
   "source": [
    "# pd.DataFrame(performance_by_regime, index=None)\n",
    "improvement = pd.DataFrame().from_dict(performance_by_regime, orient='index', columns=['Improvement'])\n",
    "improvement"
   ],
   "id": "660059b37b64fd25",
   "outputs": [
    {
     "data": {
      "text/plain": [
       "                Improvement\n",
       "cl_gapcont2020     2.092949\n",
       "ec_gcz            14.886723\n",
       "ec_ngc             1.905562\n",
       "ec_ngf             1.285806\n",
       "mbt_ma_dvg_so      0.312320\n",
       "mbt_mema3_1        0.409336\n",
       "mbt_ngc_1          1.691032\n",
       "mbt_ngf_1          1.898873\n",
       "mbt_ngf_2          1.416707\n",
       "ng_gapcont2020     2.312546\n",
       "ng_ngf             2.189485\n",
       "ng_ngf_2           1.640825\n",
       "zs_ngc_1           1.910889\n",
       "zs_ngf_1           0.911557"
      ],
      "text/html": [
       "<div>\n",
       "<style scoped>\n",
       "    .dataframe tbody tr th:only-of-type {\n",
       "        vertical-align: middle;\n",
       "    }\n",
       "\n",
       "    .dataframe tbody tr th {\n",
       "        vertical-align: top;\n",
       "    }\n",
       "\n",
       "    .dataframe thead th {\n",
       "        text-align: right;\n",
       "    }\n",
       "</style>\n",
       "<table border=\"1\" class=\"dataframe\">\n",
       "  <thead>\n",
       "    <tr style=\"text-align: right;\">\n",
       "      <th></th>\n",
       "      <th>Improvement</th>\n",
       "    </tr>\n",
       "  </thead>\n",
       "  <tbody>\n",
       "    <tr>\n",
       "      <th>cl_gapcont2020</th>\n",
       "      <td>2.092949</td>\n",
       "    </tr>\n",
       "    <tr>\n",
       "      <th>ec_gcz</th>\n",
       "      <td>14.886723</td>\n",
       "    </tr>\n",
       "    <tr>\n",
       "      <th>ec_ngc</th>\n",
       "      <td>1.905562</td>\n",
       "    </tr>\n",
       "    <tr>\n",
       "      <th>ec_ngf</th>\n",
       "      <td>1.285806</td>\n",
       "    </tr>\n",
       "    <tr>\n",
       "      <th>mbt_ma_dvg_so</th>\n",
       "      <td>0.312320</td>\n",
       "    </tr>\n",
       "    <tr>\n",
       "      <th>mbt_mema3_1</th>\n",
       "      <td>0.409336</td>\n",
       "    </tr>\n",
       "    <tr>\n",
       "      <th>mbt_ngc_1</th>\n",
       "      <td>1.691032</td>\n",
       "    </tr>\n",
       "    <tr>\n",
       "      <th>mbt_ngf_1</th>\n",
       "      <td>1.898873</td>\n",
       "    </tr>\n",
       "    <tr>\n",
       "      <th>mbt_ngf_2</th>\n",
       "      <td>1.416707</td>\n",
       "    </tr>\n",
       "    <tr>\n",
       "      <th>ng_gapcont2020</th>\n",
       "      <td>2.312546</td>\n",
       "    </tr>\n",
       "    <tr>\n",
       "      <th>ng_ngf</th>\n",
       "      <td>2.189485</td>\n",
       "    </tr>\n",
       "    <tr>\n",
       "      <th>ng_ngf_2</th>\n",
       "      <td>1.640825</td>\n",
       "    </tr>\n",
       "    <tr>\n",
       "      <th>zs_ngc_1</th>\n",
       "      <td>1.910889</td>\n",
       "    </tr>\n",
       "    <tr>\n",
       "      <th>zs_ngf_1</th>\n",
       "      <td>0.911557</td>\n",
       "    </tr>\n",
       "  </tbody>\n",
       "</table>\n",
       "</div>"
      ]
     },
     "execution_count": 201,
     "metadata": {},
     "output_type": "execute_result"
    }
   ],
   "execution_count": 201
  },
  {
   "metadata": {
    "ExecuteTime": {
     "end_time": "2024-09-17T02:34:40.481715Z",
     "start_time": "2024-09-17T02:34:40.477576Z"
    }
   },
   "cell_type": "code",
   "source": "improvement.mean()",
   "id": "ce58af74ccfd631e",
   "outputs": [
    {
     "data": {
      "text/plain": [
       "Improvement    2.490329\n",
       "dtype: float64"
      ]
     },
     "execution_count": 202,
     "metadata": {},
     "output_type": "execute_result"
    }
   ],
   "execution_count": 202
  }
 ],
 "metadata": {
  "kernelspec": {
   "display_name": "Python 3",
   "language": "python",
   "name": "python3"
  },
  "language_info": {
   "codemirror_mode": {
    "name": "ipython",
    "version": 2
   },
   "file_extension": ".py",
   "mimetype": "text/x-python",
   "name": "python",
   "nbconvert_exporter": "python",
   "pygments_lexer": "ipython2",
   "version": "2.7.6"
  }
 },
 "nbformat": 4,
 "nbformat_minor": 5
}
